{
  "nbformat": 4,
  "nbformat_minor": 0,
  "metadata": {
    "colab": {
      "name": "Analysis Tahap B.ipynb",
      "provenance": []
    },
    "kernelspec": {
      "name": "python38264bitd767aed8068543289f19309b9f4b7294",
      "display_name": "Python 3.8.2 64-bit",
      "language": "python"
    }
  },
  "cells": [
    {
      "cell_type": "code",
      "metadata": {
        "id": "kjzA9J9cMawE"
      },
      "source": [
        "import pandas as pd\n",
        "import re\n",
        "import numpy as np\n",
        "import joblib\n",
        "import pickle\n",
        "from sklearn import model_selection\n",
        "from sklearn.svm import SVC\n",
        "from sklearn.linear_model import LogisticRegression\n",
        "from sklearn.multiclass import OneVsRestClassifier\n",
        "from sklearn.metrics import classification_report\n",
        "from sklearn.metrics import confusion_matrix\n",
        "from sklearn.model_selection import train_test_split\n",
        "from sklearn.feature_extraction.text import CountVectorizer\n",
        "from sklearn.feature_extraction.text import TfidfTransformer\n",
        "from sklearn.pipeline import Pipeline\n",
        "from sklearn.metrics import accuracy_score"
      ],
      "execution_count": 1,
      "outputs": []
    },
    {
      "cell_type": "code",
      "metadata": {
        "colab": {
          "base_uri": "https://localhost:8080/",
          "height": 484
        },
        "id": "_g0XMHOkMq5M",
        "outputId": "eae3c321-a01f-4536-855e-2163ae8fd1a1"
      },
      "source": [
        "df = pd.read_csv('dataset_preprocessed_tweet.csv')\n",
        "df"
      ],
      "execution_count": 2,
      "outputs": [
        {
          "output_type": "execute_result",
          "data": {
            "text/plain": [
              "      Label                                              Tweet  \\\n",
              "0    Non_HS  fadli zon minta mendagri segera menonaktifkan ...   \n",
              "1    Non_HS  mereka terus melukai aksi dalam rangka memenja...   \n",
              "2    Non_HS  sylvi bagaimana gurbernur melakukan kekerasan ...   \n",
              "3    Non_HS  ahmad dhani tak puas debat pilkada masalah jal...   \n",
              "4    Non_HS  waspada ktp palsu kawal pilkada https    oooer...   \n",
              "..      ...                                                ...   \n",
              "482      HS         muka babi ahok tuh mirip serbet lantai btp   \n",
              "483      HS  betul bang hancurkan merka bang musnahkan chin...   \n",
              "484      HS  sapa bilang ahok anti korupsi klo grombolannya...   \n",
              "485      HS  juga ngimpi sentilin biji babi ahok pcetar pce...   \n",
              "486      HS  mudahan ketemu sama babi iwan bopeng tps nya a...   \n",
              "\n",
              "                                          Tokenization  \\\n",
              "0    ['fadli', 'zon', 'minta', 'mendagri', 'segera'...   \n",
              "1    ['mereka', 'terus', 'melukai', 'aksi', 'dalam'...   \n",
              "2    ['sylvi', 'bagaimana', 'gurbernur', 'melakukan...   \n",
              "3    ['ahmad', 'dhani', 'tak', 'puas', 'debat', 'pi...   \n",
              "4    ['waspada', 'ktp', 'palsu', 'kawal', 'pilkada'...   \n",
              "..                                                 ...   \n",
              "482  ['muka', 'babi', 'ahok', 'tuh', 'mirip', 'serb...   \n",
              "483  ['betul', 'bang', 'hancurkan', 'merka', 'bang'...   \n",
              "484  ['sapa', 'bilang', 'ahok', 'anti', 'korupsi', ...   \n",
              "485  ['juga', 'ngimpi', 'sentilin', 'biji', 'babi',...   \n",
              "486  ['mudahan', 'ketemu', 'sama', 'babi', 'iwan', ...   \n",
              "\n",
              "                                          Stop_Removal  \\\n",
              "0    ['fadli', 'zon', 'mendagri', 'menonaktifkan', ...   \n",
              "1    ['melukai', 'aksi', 'rangka', 'memenjarakan', ...   \n",
              "2    ['sylvi', 'gurbernur', 'kekerasan', 'perempuan...   \n",
              "3    ['ahmad', 'dhani', 'puas', 'debat', 'pilkada',...   \n",
              "4    ['waspada', 'ktp', 'palsu', 'kawal', 'pilkada'...   \n",
              "..                                                 ...   \n",
              "482  ['muka', 'babi', 'ahok', 'tuh', 'serbet', 'lan...   \n",
              "483  ['bang', 'hancurkan', 'merka', 'bang', 'musnah...   \n",
              "484  ['sapa', 'bilang', 'ahok', 'anti', 'korupsi', ...   \n",
              "485  ['ngimpi', 'sentilin', 'biji', 'babi', 'ahok',...   \n",
              "486  ['mudahan', 'ketemu', 'babi', 'iwan', 'bopeng'...   \n",
              "\n",
              "                                         Tweet_Stemmed  \n",
              "0    ['fadli', 'zon', 'mendagri', 'nonaktif', 'ahok...  \n",
              "1    ['luka', 'aksi', 'rangka', 'penjara', 'ahok', ...  \n",
              "2    ['sylvi', 'gurbernur', 'keras', 'perempuan', '...  \n",
              "3    ['ahmad', 'dhani', 'puas', 'debat', 'pilkada',...  \n",
              "4    ['waspada', 'ktp', 'palsu', 'kawal', 'pilkada'...  \n",
              "..                                                 ...  \n",
              "482  ['muka', 'babi', 'ahok', 'tuh', 'serbet', 'lan...  \n",
              "483  ['bang', 'hancur', 'merka', 'bang', 'musnah', ...  \n",
              "484  ['sapa', 'bilang', 'ahok', 'anti', 'korupsi', ...  \n",
              "485  ['ngimpi', 'sentilin', 'biji', 'babi', 'ahok',...  \n",
              "486  ['mudah', 'ketemu', 'babi', 'iwan', 'bopeng', ...  \n",
              "\n",
              "[487 rows x 5 columns]"
            ],
            "text/html": "<div>\n<style scoped>\n    .dataframe tbody tr th:only-of-type {\n        vertical-align: middle;\n    }\n\n    .dataframe tbody tr th {\n        vertical-align: top;\n    }\n\n    .dataframe thead th {\n        text-align: right;\n    }\n</style>\n<table border=\"1\" class=\"dataframe\">\n  <thead>\n    <tr style=\"text-align: right;\">\n      <th></th>\n      <th>Label</th>\n      <th>Tweet</th>\n      <th>Tokenization</th>\n      <th>Stop_Removal</th>\n      <th>Tweet_Stemmed</th>\n    </tr>\n  </thead>\n  <tbody>\n    <tr>\n      <th>0</th>\n      <td>Non_HS</td>\n      <td>fadli zon minta mendagri segera menonaktifkan ...</td>\n      <td>['fadli', 'zon', 'minta', 'mendagri', 'segera'...</td>\n      <td>['fadli', 'zon', 'mendagri', 'menonaktifkan', ...</td>\n      <td>['fadli', 'zon', 'mendagri', 'nonaktif', 'ahok...</td>\n    </tr>\n    <tr>\n      <th>1</th>\n      <td>Non_HS</td>\n      <td>mereka terus melukai aksi dalam rangka memenja...</td>\n      <td>['mereka', 'terus', 'melukai', 'aksi', 'dalam'...</td>\n      <td>['melukai', 'aksi', 'rangka', 'memenjarakan', ...</td>\n      <td>['luka', 'aksi', 'rangka', 'penjara', 'ahok', ...</td>\n    </tr>\n    <tr>\n      <th>2</th>\n      <td>Non_HS</td>\n      <td>sylvi bagaimana gurbernur melakukan kekerasan ...</td>\n      <td>['sylvi', 'bagaimana', 'gurbernur', 'melakukan...</td>\n      <td>['sylvi', 'gurbernur', 'kekerasan', 'perempuan...</td>\n      <td>['sylvi', 'gurbernur', 'keras', 'perempuan', '...</td>\n    </tr>\n    <tr>\n      <th>3</th>\n      <td>Non_HS</td>\n      <td>ahmad dhani tak puas debat pilkada masalah jal...</td>\n      <td>['ahmad', 'dhani', 'tak', 'puas', 'debat', 'pi...</td>\n      <td>['ahmad', 'dhani', 'puas', 'debat', 'pilkada',...</td>\n      <td>['ahmad', 'dhani', 'puas', 'debat', 'pilkada',...</td>\n    </tr>\n    <tr>\n      <th>4</th>\n      <td>Non_HS</td>\n      <td>waspada ktp palsu kawal pilkada https    oooer...</td>\n      <td>['waspada', 'ktp', 'palsu', 'kawal', 'pilkada'...</td>\n      <td>['waspada', 'ktp', 'palsu', 'kawal', 'pilkada'...</td>\n      <td>['waspada', 'ktp', 'palsu', 'kawal', 'pilkada'...</td>\n    </tr>\n    <tr>\n      <th>...</th>\n      <td>...</td>\n      <td>...</td>\n      <td>...</td>\n      <td>...</td>\n      <td>...</td>\n    </tr>\n    <tr>\n      <th>482</th>\n      <td>HS</td>\n      <td>muka babi ahok tuh mirip serbet lantai btp</td>\n      <td>['muka', 'babi', 'ahok', 'tuh', 'mirip', 'serb...</td>\n      <td>['muka', 'babi', 'ahok', 'tuh', 'serbet', 'lan...</td>\n      <td>['muka', 'babi', 'ahok', 'tuh', 'serbet', 'lan...</td>\n    </tr>\n    <tr>\n      <th>483</th>\n      <td>HS</td>\n      <td>betul bang hancurkan merka bang musnahkan chin...</td>\n      <td>['betul', 'bang', 'hancurkan', 'merka', 'bang'...</td>\n      <td>['bang', 'hancurkan', 'merka', 'bang', 'musnah...</td>\n      <td>['bang', 'hancur', 'merka', 'bang', 'musnah', ...</td>\n    </tr>\n    <tr>\n      <th>484</th>\n      <td>HS</td>\n      <td>sapa bilang ahok anti korupsi klo grombolannya...</td>\n      <td>['sapa', 'bilang', 'ahok', 'anti', 'korupsi', ...</td>\n      <td>['sapa', 'bilang', 'ahok', 'anti', 'korupsi', ...</td>\n      <td>['sapa', 'bilang', 'ahok', 'anti', 'korupsi', ...</td>\n    </tr>\n    <tr>\n      <th>485</th>\n      <td>HS</td>\n      <td>juga ngimpi sentilin biji babi ahok pcetar pce...</td>\n      <td>['juga', 'ngimpi', 'sentilin', 'biji', 'babi',...</td>\n      <td>['ngimpi', 'sentilin', 'biji', 'babi', 'ahok',...</td>\n      <td>['ngimpi', 'sentilin', 'biji', 'babi', 'ahok',...</td>\n    </tr>\n    <tr>\n      <th>486</th>\n      <td>HS</td>\n      <td>mudahan ketemu sama babi iwan bopeng tps nya a...</td>\n      <td>['mudahan', 'ketemu', 'sama', 'babi', 'iwan', ...</td>\n      <td>['mudahan', 'ketemu', 'babi', 'iwan', 'bopeng'...</td>\n      <td>['mudah', 'ketemu', 'babi', 'iwan', 'bopeng', ...</td>\n    </tr>\n  </tbody>\n</table>\n<p>487 rows × 5 columns</p>\n</div>"
          },
          "metadata": {},
          "execution_count": 2
        }
      ]
    },
    {
      "cell_type": "code",
      "metadata": {
        "id": "KbM89yR3Mu8d"
      },
      "source": [
        "def convert(polarity):\n",
        "\tif polarity == \"HS\":\n",
        "\t\treturn 1\n",
        "\telse:\n",
        "\t\treturn 0"
      ],
      "execution_count": 3,
      "outputs": []
    },
    {
      "cell_type": "code",
      "metadata": {
        "id": "VigKipJlM0r1"
      },
      "source": [
        "df['Polarity'] = df['Label'].apply(convert)"
      ],
      "execution_count": 4,
      "outputs": []
    },
    {
      "cell_type": "code",
      "metadata": {
        "id": "2-ww7KhlM2Ok"
      },
      "source": [
        "x = df['Tweet_Stemmed']\n",
        "y = df['Polarity']"
      ],
      "execution_count": 5,
      "outputs": []
    },
    {
      "cell_type": "code",
      "metadata": {
        "colab": {
          "base_uri": "https://localhost:8080/"
        },
        "id": "ivO_4gt7M63O",
        "outputId": "ca362d2a-aaed-4e7e-be6f-2f8cffa1c395"
      },
      "source": [
        "#vectorizer = CountVectorizer()\n",
        "#X = vectorizer.fit_transform(df['isi'])\n",
        "\n",
        "bow_transformer = CountVectorizer()\n",
        "print(df['Tweet_Stemmed'].shape)\n",
        "X = bow_transformer.fit_transform(df['Tweet_Stemmed'])\n",
        "\n",
        "print(X.toarray())\n",
        "print('Shape of Sparse Matrix: ', X.shape)\n",
        "print('Amount of Non-Zero Occurrences: ', X.nnz)\n",
        "\n",
        "#TFIDF Transform\n",
        "tf_transform = TfidfTransformer(use_idf=False).fit(X)\n",
        "X = tf_transform.transform(X)\n",
        "print(X.shape)"
      ],
      "execution_count": 6,
      "outputs": [
        {
          "output_type": "stream",
          "name": "stdout",
          "text": [
            "(487,)\n[[0 0 0 ... 0 0 1]\n [0 0 0 ... 0 0 0]\n [0 0 0 ... 0 0 0]\n ...\n [0 0 0 ... 0 0 0]\n [0 0 0 ... 0 0 0]\n [0 0 0 ... 0 0 0]]\nShape of Sparse Matrix:  (487, 1689)\nAmount of Non-Zero Occurrences:  4039\n(487, 1689)\n"
          ]
        }
      ]
    },
    {
      "cell_type": "code",
      "metadata": {
        "colab": {
          "base_uri": "https://localhost:8080/"
        },
        "id": "f-pq-VGXM8mw",
        "outputId": "c2407fc3-c992-4bf1-b079-69893bec99ed"
      },
      "source": [
        "density = (100.0 * X.nnz / (X.shape[0] * X.shape[1]))\r\n",
        "print('Density: {}'.format((density)))"
      ],
      "execution_count": 7,
      "outputs": [
        {
          "output_type": "stream",
          "name": "stdout",
          "text": [
            "Density: 0.4910381584914102\n"
          ]
        }
      ]
    },
    {
      "cell_type": "code",
      "metadata": {
        "colab": {
          "base_uri": "https://localhost:8080/"
        },
        "id": "60HASoGpNBB7",
        "outputId": "ca68d19d-bbcf-4576-abec-2822ffe4421f",
        "tags": []
      },
      "source": [
        "X_train, X_test, y_train, y_test = train_test_split(\n",
        "\tX, y, test_size=0.3)\n",
        "print(X_test)"
      ],
      "execution_count": 8,
      "outputs": [
        {
          "output_type": "stream",
          "name": "stdout",
          "text": [
            "  (0, 19)\t0.30151134457776363\n  (0, 446)\t0.30151134457776363\n  (0, 464)\t0.30151134457776363\n  (0, 529)\t0.30151134457776363\n  (0, 579)\t0.30151134457776363\n  (0, 650)\t0.30151134457776363\n  (0, 757)\t0.30151134457776363\n  (0, 958)\t0.30151134457776363\n  (0, 1077)\t0.30151134457776363\n  (0, 1256)\t0.30151134457776363\n  (0, 1448)\t0.30151134457776363\n  (1, 90)\t0.2773500981126146\n  (1, 109)\t0.2773500981126146\n  (1, 190)\t0.5547001962252291\n  (1, 668)\t0.2773500981126146\n  (1, 773)\t0.2773500981126146\n  (1, 839)\t0.2773500981126146\n  (1, 857)\t0.2773500981126146\n  (1, 1124)\t0.2773500981126146\n  (1, 1336)\t0.2773500981126146\n  (1, 1683)\t0.2773500981126146\n  (2, 31)\t0.25\n  (2, 306)\t0.25\n  (2, 497)\t0.25\n  (2, 700)\t0.5\n  :\t:\n  (143, 31)\t0.3333333333333333\n  (143, 81)\t0.3333333333333333\n  (143, 125)\t0.3333333333333333\n  (143, 245)\t0.3333333333333333\n  (143, 631)\t0.3333333333333333\n  (143, 772)\t0.3333333333333333\n  (143, 995)\t0.3333333333333333\n  (143, 1098)\t0.3333333333333333\n  (143, 1566)\t0.3333333333333333\n  (144, 937)\t0.4472135954999579\n  (144, 988)\t0.4472135954999579\n  (144, 1005)\t0.4472135954999579\n  (144, 1098)\t0.4472135954999579\n  (144, 1561)\t0.4472135954999579\n  (145, 19)\t0.4472135954999579\n  (145, 44)\t0.4472135954999579\n  (145, 488)\t0.4472135954999579\n  (145, 1077)\t0.4472135954999579\n  (145, 1203)\t0.4472135954999579\n  (146, 67)\t0.4082482904638631\n  (146, 316)\t0.4082482904638631\n  (146, 402)\t0.4082482904638631\n  (146, 1159)\t0.4082482904638631\n  (146, 1201)\t0.4082482904638631\n  (146, 1353)\t0.4082482904638631\n"
          ]
        }
      ]
    },
    {
      "cell_type": "code",
      "metadata": {
        "id": "4M4SZSaUNDOD"
      },
      "source": [
        "classifier = SVC(kernel = 'rbf', random_state = 0)\n",
        "classifier.fit(X_train, y_train)"
      ],
      "execution_count": 9,
      "outputs": [
        {
          "output_type": "execute_result",
          "data": {
            "text/plain": [
              "SVC(C=1.0, break_ties=False, cache_size=200, class_weight=None, coef0=0.0,\n",
              "    decision_function_shape='ovr', degree=3, gamma='scale', kernel='rbf',\n",
              "    max_iter=-1, probability=False, random_state=0, shrinking=True, tol=0.001,\n",
              "    verbose=False)"
            ]
          },
          "metadata": {},
          "execution_count": 9
        }
      ]
    },
    {
      "cell_type": "code",
      "execution_count": 10,
      "metadata": {},
      "outputs": [],
      "source": [
        "y_pred = classifier.predict(X_test)"
      ]
    },
    {
      "cell_type": "code",
      "execution_count": 11,
      "metadata": {},
      "outputs": [
        {
          "output_type": "execute_result",
          "data": {
            "text/plain": [
              "array([[63, 11],\n",
              "       [17, 56]], dtype=int64)"
            ]
          },
          "metadata": {},
          "execution_count": 11
        }
      ],
      "source": [
        "# Membuat confusion matrix\n",
        "confusion_matrix(y_test, y_pred)"
      ]
    },
    {
      "cell_type": "code",
      "metadata": {
        "colab": {
          "base_uri": "https://localhost:8080/"
        },
        "id": "HrdpN-CzNFNb",
        "outputId": "0d6eaa7a-8d5a-46de-c54f-4a84b206560c"
      },
      "source": [
        "print(classification_report(y_test, y_pred))"
      ],
      "execution_count": 12,
      "outputs": [
        {
          "output_type": "stream",
          "name": "stdout",
          "text": [
            "              precision    recall  f1-score   support\n\n           0       0.79      0.85      0.82        74\n           1       0.84      0.77      0.80        73\n\n    accuracy                           0.81       147\n   macro avg       0.81      0.81      0.81       147\nweighted avg       0.81      0.81      0.81       147\n\n"
          ]
        }
      ]
    },
    {
      "cell_type": "code",
      "metadata": {
        "id": "JfWIh2Odcxma"
      },
      "source": [
        "#save classification\n",
        "from io import StringIO\n",
        "classification = classification_report(y_test, y_pred)\n",
        "s = StringIO(classification)\n",
        "with open('classification_svm_tweet.csv', 'w') as f:\n",
        "\tfor line in s:\n",
        "\t\tf.write(line)"
      ],
      "execution_count": 13,
      "outputs": []
    },
    {
      "cell_type": "code",
      "metadata": {
        "colab": {
          "base_uri": "https://localhost:8080/"
        },
        "id": "4Dh7av7hNHIX",
        "outputId": "7b52f1ff-c969-4597-e025-a726c0df439e"
      },
      "source": [
        "print(accuracy_score(y_test, y_pred))"
      ],
      "execution_count": 14,
      "outputs": [
        {
          "output_type": "stream",
          "name": "stdout",
          "text": [
            "0.8095238095238095\n"
          ]
        }
      ]
    },
    {
      "cell_type": "code",
      "metadata": {
        "id": "VJeaSVggc09Q"
      },
      "source": [
        "#save hasil accuracy\n",
        "accuracy = accuracy_score(y_test, y_pred)\n",
        "a = np.asarray([accuracy])\n",
        "np.savetxt(\"accuracy_svm_tweet.csv\", a, delimiter=\",\", fmt='%s')"
      ],
      "execution_count": 15,
      "outputs": []
    }
  ]
}