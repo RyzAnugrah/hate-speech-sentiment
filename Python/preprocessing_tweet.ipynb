{
  "nbformat": 4,
  "nbformat_minor": 0,
  "metadata": {
    "colab": {
      "name": "Preprocessing Tweet Opini(Tahap B).ipynb",
      "provenance": []
    },
    "kernelspec": {
      "name": "python38264bitd767aed8068543289f19309b9f4b7294",
      "display_name": "Python 3.8.2 64-bit",
      "language": "python"
    },
    "widgets": {
      "application/vnd.jupyter.widget-state+json": {
        "b92d5c21c5de4d74abd6f103e20cfc98": {
          "model_module": "@jupyter-widgets/controls",
          "model_name": "HBoxModel",
          "state": {
            "_view_name": "HBoxView",
            "_dom_classes": [],
            "_model_name": "HBoxModel",
            "_view_module": "@jupyter-widgets/controls",
            "_model_module_version": "1.5.0",
            "_view_count": null,
            "_view_module_version": "1.5.0",
            "box_style": "",
            "layout": "IPY_MODEL_2d922c2460da4186960b680de209de0a",
            "_model_module": "@jupyter-widgets/controls",
            "children": [
              "IPY_MODEL_73d8f2001afa47548b908c7515ef560a",
              "IPY_MODEL_328320decf504e6c925a4427ebf7c71f"
            ]
          }
        },
        "2d922c2460da4186960b680de209de0a": {
          "model_module": "@jupyter-widgets/base",
          "model_name": "LayoutModel",
          "state": {
            "_view_name": "LayoutView",
            "grid_template_rows": null,
            "right": null,
            "justify_content": null,
            "_view_module": "@jupyter-widgets/base",
            "overflow": null,
            "_model_module_version": "1.2.0",
            "_view_count": null,
            "flex_flow": null,
            "width": null,
            "min_width": null,
            "border": null,
            "align_items": null,
            "bottom": null,
            "_model_module": "@jupyter-widgets/base",
            "top": null,
            "grid_column": null,
            "overflow_y": null,
            "overflow_x": null,
            "grid_auto_flow": null,
            "grid_area": null,
            "grid_template_columns": null,
            "flex": null,
            "_model_name": "LayoutModel",
            "justify_items": null,
            "grid_row": null,
            "max_height": null,
            "align_content": null,
            "visibility": null,
            "align_self": null,
            "height": null,
            "min_height": null,
            "padding": null,
            "grid_auto_rows": null,
            "grid_gap": null,
            "max_width": null,
            "order": null,
            "_view_module_version": "1.2.0",
            "grid_template_areas": null,
            "object_position": null,
            "object_fit": null,
            "grid_auto_columns": null,
            "margin": null,
            "display": null,
            "left": null
          }
        },
        "73d8f2001afa47548b908c7515ef560a": {
          "model_module": "@jupyter-widgets/controls",
          "model_name": "FloatProgressModel",
          "state": {
            "_view_name": "ProgressView",
            "style": "IPY_MODEL_d69542d3289c4062b342955205b6d506",
            "_dom_classes": [],
            "description": "Pandas Apply: 100%",
            "_model_name": "FloatProgressModel",
            "bar_style": "success",
            "max": 200,
            "_view_module": "@jupyter-widgets/controls",
            "_model_module_version": "1.5.0",
            "value": 200,
            "_view_count": null,
            "_view_module_version": "1.5.0",
            "orientation": "horizontal",
            "min": 0,
            "description_tooltip": null,
            "_model_module": "@jupyter-widgets/controls",
            "layout": "IPY_MODEL_72004dead95949afbb6cd96ab13cc4b5"
          }
        },
        "328320decf504e6c925a4427ebf7c71f": {
          "model_module": "@jupyter-widgets/controls",
          "model_name": "HTMLModel",
          "state": {
            "_view_name": "HTMLView",
            "style": "IPY_MODEL_46146cc690734b94adcf4d515338c6a6",
            "_dom_classes": [],
            "description": "",
            "_model_name": "HTMLModel",
            "placeholder": "​",
            "_view_module": "@jupyter-widgets/controls",
            "_model_module_version": "1.5.0",
            "value": " 200/200 [00:00&lt;00:00, 6054.96it/s]",
            "_view_count": null,
            "_view_module_version": "1.5.0",
            "description_tooltip": null,
            "_model_module": "@jupyter-widgets/controls",
            "layout": "IPY_MODEL_9db874c3e8f54577b18a8c79db0c0381"
          }
        },
        "d69542d3289c4062b342955205b6d506": {
          "model_module": "@jupyter-widgets/controls",
          "model_name": "ProgressStyleModel",
          "state": {
            "_view_name": "StyleView",
            "_model_name": "ProgressStyleModel",
            "description_width": "initial",
            "_view_module": "@jupyter-widgets/base",
            "_model_module_version": "1.5.0",
            "_view_count": null,
            "_view_module_version": "1.2.0",
            "bar_color": null,
            "_model_module": "@jupyter-widgets/controls"
          }
        },
        "72004dead95949afbb6cd96ab13cc4b5": {
          "model_module": "@jupyter-widgets/base",
          "model_name": "LayoutModel",
          "state": {
            "_view_name": "LayoutView",
            "grid_template_rows": null,
            "right": null,
            "justify_content": null,
            "_view_module": "@jupyter-widgets/base",
            "overflow": null,
            "_model_module_version": "1.2.0",
            "_view_count": null,
            "flex_flow": null,
            "width": null,
            "min_width": null,
            "border": null,
            "align_items": null,
            "bottom": null,
            "_model_module": "@jupyter-widgets/base",
            "top": null,
            "grid_column": null,
            "overflow_y": null,
            "overflow_x": null,
            "grid_auto_flow": null,
            "grid_area": null,
            "grid_template_columns": null,
            "flex": null,
            "_model_name": "LayoutModel",
            "justify_items": null,
            "grid_row": null,
            "max_height": null,
            "align_content": null,
            "visibility": null,
            "align_self": null,
            "height": null,
            "min_height": null,
            "padding": null,
            "grid_auto_rows": null,
            "grid_gap": null,
            "max_width": null,
            "order": null,
            "_view_module_version": "1.2.0",
            "grid_template_areas": null,
            "object_position": null,
            "object_fit": null,
            "grid_auto_columns": null,
            "margin": null,
            "display": null,
            "left": null
          }
        },
        "46146cc690734b94adcf4d515338c6a6": {
          "model_module": "@jupyter-widgets/controls",
          "model_name": "DescriptionStyleModel",
          "state": {
            "_view_name": "StyleView",
            "_model_name": "DescriptionStyleModel",
            "description_width": "",
            "_view_module": "@jupyter-widgets/base",
            "_model_module_version": "1.5.0",
            "_view_count": null,
            "_view_module_version": "1.2.0",
            "_model_module": "@jupyter-widgets/controls"
          }
        },
        "9db874c3e8f54577b18a8c79db0c0381": {
          "model_module": "@jupyter-widgets/base",
          "model_name": "LayoutModel",
          "state": {
            "_view_name": "LayoutView",
            "grid_template_rows": null,
            "right": null,
            "justify_content": null,
            "_view_module": "@jupyter-widgets/base",
            "overflow": null,
            "_model_module_version": "1.2.0",
            "_view_count": null,
            "flex_flow": null,
            "width": null,
            "min_width": null,
            "border": null,
            "align_items": null,
            "bottom": null,
            "_model_module": "@jupyter-widgets/base",
            "top": null,
            "grid_column": null,
            "overflow_y": null,
            "overflow_x": null,
            "grid_auto_flow": null,
            "grid_area": null,
            "grid_template_columns": null,
            "flex": null,
            "_model_name": "LayoutModel",
            "justify_items": null,
            "grid_row": null,
            "max_height": null,
            "align_content": null,
            "visibility": null,
            "align_self": null,
            "height": null,
            "min_height": null,
            "padding": null,
            "grid_auto_rows": null,
            "grid_gap": null,
            "max_width": null,
            "order": null,
            "_view_module_version": "1.2.0",
            "grid_template_areas": null,
            "object_position": null,
            "object_fit": null,
            "grid_auto_columns": null,
            "margin": null,
            "display": null,
            "left": null
          }
        }
      }
    }
  },
  "cells": [
    {
      "cell_type": "code",
      "metadata": {
        "colab": {
          "base_uri": "https://localhost:8080/",
          "height": 1000
        },
        "id": "K9g8Yey21wiy",
        "outputId": "4b09baa6-9114-43ba-86d0-8337802718b9"
      },
      "source": [
        "!pip install Sastrawi\n",
        "!pip install swifter\n",
        "!pip install nltk"
      ],
      "execution_count": 1,
      "outputs": [
        {
          "output_type": "stream",
          "name": "stdout",
          "text": [
            "Defaulting to user installation because normal site-packages is not writeable\n",
            "Requirement already satisfied: Sastrawi in c:\\users\\omenbyhp\\appdata\\roaming\\python\\python38\\site-packages (1.0.1)\n",
            "Defaulting to user installation because normal site-packages is not writeable\n",
            "Requirement already satisfied: swifter in c:\\users\\omenbyhp\\appdata\\roaming\\python\\python38\\site-packages (1.0.7)\n",
            "Requirement already satisfied: tqdm>=4.33.0 in c:\\users\\omenbyhp\\appdata\\roaming\\python\\python38\\site-packages (from swifter) (4.55.0)\n",
            "Requirement already satisfied: modin[ray]>=0.8.1.1 in c:\\users\\omenbyhp\\appdata\\roaming\\python\\python38\\site-packages (from swifter) (0.8.2)\n",
            "Requirement already satisfied: pandas>=1.0.0 in c:\\users\\omenbyhp\\appdata\\roaming\\python\\python38\\site-packages (from swifter) (1.1.4)\n",
            "Requirement already satisfied: dask[dataframe]>=2.10.0 in c:\\users\\omenbyhp\\appdata\\roaming\\python\\python38\\site-packages (from swifter) (2020.12.0)\n",
            "Requirement already satisfied: ipywidgets>=7.0.0cloudpickle>=0.2.2 in c:\\users\\omenbyhp\\appdata\\roaming\\python\\python38\\site-packages (from swifter) (8.0.0a0)\n",
            "Requirement already satisfied: bleach>=3.1.1 in c:\\program files\\python38\\lib\\site-packages (from swifter) (3.1.5)\n",
            "Requirement already satisfied: parso>0.4.0 in c:\\program files\\python38\\lib\\site-packages (from swifter) (0.7.0)\n",
            "Requirement already satisfied: psutil>=5.6.6 in c:\\users\\omenbyhp\\appdata\\roaming\\python\\python38\\site-packages (from swifter) (5.8.0)\n",
            "Requirement already satisfied: six>=1.9.0 in c:\\program files\\python38\\lib\\site-packages (from bleach>=3.1.1->swifter) (1.14.0)\n",
            "Requirement already satisfied: packaging in c:\\program files\\python38\\lib\\site-packages (from bleach>=3.1.1->swifter) (20.3)\n",
            "Requirement already satisfied: webencodings in c:\\program files\\python38\\lib\\site-packages (from bleach>=3.1.1->swifter) (0.5.1)\n",
            "Requirement already satisfied: pyyaml in c:\\program files\\python38\\lib\\site-packages (from dask[dataframe]>=2.10.0->swifter) (5.3.1)\n",
            "Requirement already satisfied: fsspec>=0.6.0 in c:\\users\\omenbyhp\\appdata\\roaming\\python\\python38\\site-packages (from dask[dataframe]>=2.10.0->swifter) (0.8.5)\n",
            "Requirement already satisfied: toolz>=0.8.2 in c:\\users\\omenbyhp\\appdata\\roaming\\python\\python38\\site-packages (from dask[dataframe]>=2.10.0->swifter) (0.11.1)\n",
            "Requirement already satisfied: numpy>=1.15.1 in c:\\program files\\python38\\lib\\site-packages (from dask[dataframe]>=2.10.0->swifter) (1.18.4)\n",
            "Requirement already satisfied: partd>=0.3.10 in c:\\users\\omenbyhp\\appdata\\roaming\\python\\python38\\site-packages (from dask[dataframe]>=2.10.0->swifter) (1.1.0)\n",
            "Requirement already satisfied: widgetsnbextension~=4.0a0 in c:\\users\\omenbyhp\\appdata\\roaming\\python\\python38\\site-packages (from ipywidgets>=7.0.0cloudpickle>=0.2.2->swifter) (4.0.0a0)\n",
            "Requirement already satisfied: ipykernel>=4.5.1 in c:\\program files\\python38\\lib\\site-packages (from ipywidgets>=7.0.0cloudpickle>=0.2.2->swifter) (5.2.1)\n",
            "Requirement already satisfied: nbformat>=4.2.0 in c:\\program files\\python38\\lib\\site-packages (from ipywidgets>=7.0.0cloudpickle>=0.2.2->swifter) (5.0.6)\n",
            "Requirement already satisfied: traitlets>=4.3.1 in c:\\program files\\python38\\lib\\site-packages (from ipywidgets>=7.0.0cloudpickle>=0.2.2->swifter) (4.3.3)\n",
            "Requirement already satisfied: ipython>=6.1.0 in c:\\program files\\python38\\lib\\site-packages (from ipywidgets>=7.0.0cloudpickle>=0.2.2->swifter) (7.14.0)\n",
            "Requirement already satisfied: jupyter-client in c:\\program files\\python38\\lib\\site-packages (from ipykernel>=4.5.1->ipywidgets>=7.0.0cloudpickle>=0.2.2->swifter) (6.1.3)\n",
            "Requirement already satisfied: tornado>=4.2 in c:\\program files\\python38\\lib\\site-packages (from ipykernel>=4.5.1->ipywidgets>=7.0.0cloudpickle>=0.2.2->swifter) (6.0.4)\n",
            "Requirement already satisfied: jedi>=0.10 in c:\\program files\\python38\\lib\\site-packages (from ipython>=6.1.0->ipywidgets>=7.0.0cloudpickle>=0.2.2->swifter) (0.17.0)\n",
            "Requirement already satisfied: decorator in c:\\program files\\python38\\lib\\site-packages (from ipython>=6.1.0->ipywidgets>=7.0.0cloudpickle>=0.2.2->swifter) (4.4.2)\n",
            "Requirement already satisfied: prompt-toolkit!=3.0.0,!=3.0.1,<3.1.0,>=2.0.0 in c:\\program files\\python38\\lib\\site-packages (from ipython>=6.1.0->ipywidgets>=7.0.0cloudpickle>=0.2.2->swifter) (3.0.5)\n",
            "Requirement already satisfied: pygments in c:\\program files\\python38\\lib\\site-packages (from ipython>=6.1.0->ipywidgets>=7.0.0cloudpickle>=0.2.2->swifter) (2.6.1)\n",
            "Requirement already satisfied: backcall in c:\\program files\\python38\\lib\\site-packages (from ipython>=6.1.0->ipywidgets>=7.0.0cloudpickle>=0.2.2->swifter) (0.1.0)\n",
            "Requirement already satisfied: pickleshare in c:\\program files\\python38\\lib\\site-packages (from ipython>=6.1.0->ipywidgets>=7.0.0cloudpickle>=0.2.2->swifter) (0.7.5)\n",
            "Requirement already satisfied: colorama in c:\\program files\\python38\\lib\\site-packages (from ipython>=6.1.0->ipywidgets>=7.0.0cloudpickle>=0.2.2->swifter) (0.4.3)\n",
            "Requirement already satisfied: setuptools>=18.5 in c:\\users\\omenbyhp\\appdata\\roaming\\python\\python38\\site-packages (from ipython>=6.1.0->ipywidgets>=7.0.0cloudpickle>=0.2.2->swifter) (50.3.2)\n",
            "Requirement already satisfied: ray>=1.0.0 in c:\\users\\omenbyhp\\appdata\\roaming\\python\\python38\\site-packages (from modin[ray]>=0.8.1.1->swifter) (1.1.0)\n",
            "Requirement already satisfied: pyarrow==1.0 in c:\\users\\omenbyhp\\appdata\\roaming\\python\\python38\\site-packages (from modin[ray]>=0.8.1.1->swifter) (1.0.0)\n",
            "Requirement already satisfied: python-dateutil>=2.7.3 in c:\\program files\\python38\\lib\\site-packages (from pandas>=1.0.0->swifter) (2.8.1)\n",
            "Requirement already satisfied: pytz>=2017.2 in c:\\users\\omenbyhp\\appdata\\roaming\\python\\python38\\site-packages (from pandas>=1.0.0->swifter) (2020.1)\n",
            "Requirement already satisfied: jupyter-core in c:\\program files\\python38\\lib\\site-packages (from nbformat>=4.2.0->ipywidgets>=7.0.0cloudpickle>=0.2.2->swifter) (4.6.3)\n",
            "Requirement already satisfied: ipython-genutils in c:\\program files\\python38\\lib\\site-packages (from nbformat>=4.2.0->ipywidgets>=7.0.0cloudpickle>=0.2.2->swifter) (0.2.0)\n",
            "Requirement already satisfied: jsonschema!=2.5.0,>=2.4 in c:\\program files\\python38\\lib\\site-packages (from nbformat>=4.2.0->ipywidgets>=7.0.0cloudpickle>=0.2.2->swifter) (3.2.0)\n",
            "Requirement already satisfied: pyrsistent>=0.14.0 in c:\\program files\\python38\\lib\\site-packages (from jsonschema!=2.5.0,>=2.4->nbformat>=4.2.0->ipywidgets>=7.0.0cloudpickle>=0.2.2->swifter) (0.16.0)\n",
            "Requirement already satisfied: attrs>=17.4.0 in c:\\program files\\python38\\lib\\site-packages (from jsonschema!=2.5.0,>=2.4->nbformat>=4.2.0->ipywidgets>=7.0.0cloudpickle>=0.2.2->swifter) (19.3.0)\n",
            "Requirement already satisfied: locket in c:\\users\\omenbyhp\\appdata\\roaming\\python\\python38\\site-packages (from partd>=0.3.10->dask[dataframe]>=2.10.0->swifter) (0.2.0)\n",
            "Requirement already satisfied: wcwidth in c:\\program files\\python38\\lib\\site-packages (from prompt-toolkit!=3.0.0,!=3.0.1,<3.1.0,>=2.0.0->ipython>=6.1.0->ipywidgets>=7.0.0cloudpickle>=0.2.2->swifter) (0.1.9)\n",
            "Requirement already satisfied: py-spy>=0.2.0 in c:\\users\\omenbyhp\\appdata\\roaming\\python\\python38\\site-packages (from ray>=1.0.0->modin[ray]>=0.8.1.1->swifter) (0.3.3)\n",
            "Requirement already satisfied: redis>=3.5.0 in c:\\users\\omenbyhp\\appdata\\roaming\\python\\python38\\site-packages (from ray>=1.0.0->modin[ray]>=0.8.1.1->swifter) (3.5.3)\n",
            "Requirement already satisfied: click>=7.0 in c:\\users\\omenbyhp\\appdata\\roaming\\python\\python38\\site-packages (from ray>=1.0.0->modin[ray]>=0.8.1.1->swifter) (7.1.2)\n",
            "Requirement already satisfied: aiohttp in c:\\users\\omenbyhp\\appdata\\roaming\\python\\python38\\site-packages (from ray>=1.0.0->modin[ray]>=0.8.1.1->swifter) (3.7.3)\n",
            "Requirement already satisfied: aioredis in c:\\users\\omenbyhp\\appdata\\roaming\\python\\python38\\site-packages (from ray>=1.0.0->modin[ray]>=0.8.1.1->swifter) (1.3.1)\n",
            "Requirement already satisfied: gpustat in c:\\users\\omenbyhp\\appdata\\roaming\\python\\python38\\site-packages (from ray>=1.0.0->modin[ray]>=0.8.1.1->swifter) (0.6.0)\n",
            "Requirement already satisfied: protobuf>=3.8.0 in c:\\users\\omenbyhp\\appdata\\roaming\\python\\python38\\site-packages (from ray>=1.0.0->modin[ray]>=0.8.1.1->swifter) (3.14.0)\n",
            "Requirement already satisfied: prometheus-client>=0.7.1 in c:\\program files\\python38\\lib\\site-packages (from ray>=1.0.0->modin[ray]>=0.8.1.1->swifter) (0.7.1)\n",
            "Requirement already satisfied: msgpack<2.0.0,>=1.0.0 in c:\\users\\omenbyhp\\appdata\\roaming\\python\\python38\\site-packages (from ray>=1.0.0->modin[ray]>=0.8.1.1->swifter) (1.0.2)\n",
            "Requirement already satisfied: colorful in c:\\users\\omenbyhp\\appdata\\roaming\\python\\python38\\site-packages (from ray>=1.0.0->modin[ray]>=0.8.1.1->swifter) (0.5.4)\n",
            "Requirement already satisfied: requests in c:\\program files\\python38\\lib\\site-packages (from ray>=1.0.0->modin[ray]>=0.8.1.1->swifter) (2.23.0)\n",
            "Requirement already satisfied: opencensus in c:\\users\\omenbyhp\\appdata\\roaming\\python\\python38\\site-packages (from ray>=1.0.0->modin[ray]>=0.8.1.1->swifter) (0.7.11)\n",
            "Requirement already satisfied: filelock in c:\\users\\omenbyhp\\appdata\\roaming\\python\\python38\\site-packages (from ray>=1.0.0->modin[ray]>=0.8.1.1->swifter) (3.0.12)\n",
            "Requirement already satisfied: grpcio>=1.28.1 in c:\\program files\\python38\\lib\\site-packages (from ray>=1.0.0->modin[ray]>=0.8.1.1->swifter) (1.28.1)\n",
            "Requirement already satisfied: aiohttp-cors in c:\\users\\omenbyhp\\appdata\\roaming\\python\\python38\\site-packages (from ray>=1.0.0->modin[ray]>=0.8.1.1->swifter) (0.7.0)\n",
            "Requirement already satisfied: chardet<4.0,>=2.0 in c:\\program files\\python38\\lib\\site-packages (from aiohttp->ray>=1.0.0->modin[ray]>=0.8.1.1->swifter) (3.0.4)\n",
            "Requirement already satisfied: async-timeout<4.0,>=3.0 in c:\\users\\omenbyhp\\appdata\\roaming\\python\\python38\\site-packages (from aiohttp->ray>=1.0.0->modin[ray]>=0.8.1.1->swifter) (3.0.1)\n",
            "Requirement already satisfied: typing-extensions>=3.6.5 in c:\\users\\omenbyhp\\appdata\\roaming\\python\\python38\\site-packages (from aiohttp->ray>=1.0.0->modin[ray]>=0.8.1.1->swifter) (3.7.4.3)\n",
            "Requirement already satisfied: multidict<7.0,>=4.5 in c:\\users\\omenbyhp\\appdata\\roaming\\python\\python38\\site-packages (from aiohttp->ray>=1.0.0->modin[ray]>=0.8.1.1->swifter) (5.1.0)\n",
            "Requirement already satisfied: yarl<2.0,>=1.0 in c:\\users\\omenbyhp\\appdata\\roaming\\python\\python38\\site-packages (from aiohttp->ray>=1.0.0->modin[ray]>=0.8.1.1->swifter) (1.6.3)\n",
            "Requirement already satisfied: idna>=2.0 in c:\\program files\\python38\\lib\\site-packages (from yarl<2.0,>=1.0->aiohttp->ray>=1.0.0->modin[ray]>=0.8.1.1->swifter) (2.9)\n",
            "Requirement already satisfied: hiredis in c:\\users\\omenbyhp\\appdata\\roaming\\python\\python38\\site-packages (from aioredis->ray>=1.0.0->modin[ray]>=0.8.1.1->swifter) (1.1.0)\n",
            "Requirement already satisfied: nvidia-ml-py3>=7.352.0 in c:\\users\\omenbyhp\\appdata\\roaming\\python\\python38\\site-packages (from gpustat->ray>=1.0.0->modin[ray]>=0.8.1.1->swifter) (7.352.0)\n",
            "Requirement already satisfied: blessings>=1.6 in c:\\users\\omenbyhp\\appdata\\roaming\\python\\python38\\site-packages (from gpustat->ray>=1.0.0->modin[ray]>=0.8.1.1->swifter) (1.7)\n",
            "Requirement already satisfied: pyzmq>=13 in c:\\program files\\python38\\lib\\site-packages (from jupyter-client->ipykernel>=4.5.1->ipywidgets>=7.0.0cloudpickle>=0.2.2->swifter) (19.0.1)\n",
            "Requirement already satisfied: pywin32>=1.0 in c:\\program files\\python38\\lib\\site-packages (from jupyter-core->nbformat>=4.2.0->ipywidgets>=7.0.0cloudpickle>=0.2.2->swifter) (227)\n",
            "Requirement already satisfied: opencensus-context==0.1.2 in c:\\users\\omenbyhp\\appdata\\roaming\\python\\python38\\site-packages (from opencensus->ray>=1.0.0->modin[ray]>=0.8.1.1->swifter) (0.1.2)\n",
            "Requirement already satisfied: google-api-core<2.0.0,>=1.0.0 in c:\\users\\omenbyhp\\appdata\\roaming\\python\\python38\\site-packages (from opencensus->ray>=1.0.0->modin[ray]>=0.8.1.1->swifter) (1.24.1)\n",
            "Requirement already satisfied: googleapis-common-protos<2.0dev,>=1.6.0 in c:\\users\\omenbyhp\\appdata\\roaming\\python\\python38\\site-packages (from google-api-core<2.0.0,>=1.0.0->opencensus->ray>=1.0.0->modin[ray]>=0.8.1.1->swifter) (1.52.0)\n",
            "Requirement already satisfied: google-auth<2.0dev,>=1.21.1 in c:\\users\\omenbyhp\\appdata\\roaming\\python\\python38\\site-packages (from google-api-core<2.0.0,>=1.0.0->opencensus->ray>=1.0.0->modin[ray]>=0.8.1.1->swifter) (1.24.0)\n",
            "Requirement already satisfied: cachetools<5.0,>=2.0.0 in c:\\program files\\python38\\lib\\site-packages (from google-auth<2.0dev,>=1.21.1->google-api-core<2.0.0,>=1.0.0->opencensus->ray>=1.0.0->modin[ray]>=0.8.1.1->swifter) (4.1.0)\n",
            "Requirement already satisfied: pyasn1-modules>=0.2.1 in c:\\program files\\python38\\lib\\site-packages (from google-auth<2.0dev,>=1.21.1->google-api-core<2.0.0,>=1.0.0->opencensus->ray>=1.0.0->modin[ray]>=0.8.1.1->swifter) (0.2.8)\n",
            "Requirement already satisfied: rsa<5,>=3.1.4 in c:\\program files\\python38\\lib\\site-packages (from google-auth<2.0dev,>=1.21.1->google-api-core<2.0.0,>=1.0.0->opencensus->ray>=1.0.0->modin[ray]>=0.8.1.1->swifter) (4.0)\n",
            "Requirement already satisfied: pyasn1<0.5.0,>=0.4.6 in c:\\program files\\python38\\lib\\site-packages (from pyasn1-modules>=0.2.1->google-auth<2.0dev,>=1.21.1->google-api-core<2.0.0,>=1.0.0->opencensus->ray>=1.0.0->modin[ray]>=0.8.1.1->swifter) (0.4.8)\n",
            "Requirement already satisfied: certifi>=2017.4.17 in c:\\program files\\python38\\lib\\site-packages (from requests->ray>=1.0.0->modin[ray]>=0.8.1.1->swifter) (2020.4.5.1)\n",
            "Requirement already satisfied: urllib3!=1.25.0,!=1.25.1,<1.26,>=1.21.1 in c:\\program files\\python38\\lib\\site-packages (from requests->ray>=1.0.0->modin[ray]>=0.8.1.1->swifter) (1.25.9)\n",
            "Requirement already satisfied: pyparsing>=2.0.2 in c:\\program files\\python38\\lib\\site-packages (from packaging->bleach>=3.1.1->swifter) (2.4.7)\n",
            "Defaulting to user installation because normal site-packages is not writeable\n",
            "Requirement already satisfied: nltk in c:\\users\\omenbyhp\\appdata\\roaming\\python\\python38\\site-packages (3.5)\n",
            "Requirement already satisfied: click in c:\\users\\omenbyhp\\appdata\\roaming\\python\\python38\\site-packages (from nltk) (7.1.2)\n",
            "Requirement already satisfied: regex in c:\\users\\omenbyhp\\appdata\\roaming\\python\\python38\\site-packages (from nltk) (2020.11.13)\n",
            "Requirement already satisfied: tqdm in c:\\users\\omenbyhp\\appdata\\roaming\\python\\python38\\site-packages (from nltk) (4.55.0)\n",
            "Requirement already satisfied: joblib in c:\\program files\\python38\\lib\\site-packages (from nltk) (0.14.1)\n"
          ]
        }
      ]
    },
    {
      "cell_type": "code",
      "metadata": {
        "colab": {
          "base_uri": "https://localhost:8080/"
        },
        "id": "Aw9do7ie110v",
        "outputId": "552ef334-7c72-4d03-810d-31e3e531a59d"
      },
      "source": [
        "#import library\r\n",
        "import numpy as np\r\n",
        "import pandas as pd\r\n",
        "import matplotlib.pyplot as plt\r\n",
        "from sklearn.feature_extraction.text import CountVectorizer\r\n",
        "import nltk\r\n",
        "from nltk.metrics.distance import edit_distance\r\n",
        "nltk.download('stopwords')\r\n",
        "import string\r\n",
        "import re\r\n",
        "from Sastrawi.StopWordRemover.StopWordRemoverFactory import StopWordRemoverFactory\r\n",
        "from nltk.tokenize import word_tokenize \r\n",
        "from nltk.probability import FreqDist\r\n",
        "import re\r\n",
        "from Sastrawi.Stemmer.StemmerFactory import StemmerFactory\r\n",
        "import swifter"
      ],
      "execution_count": 2,
      "outputs": [
        {
          "output_type": "stream",
          "name": "stderr",
          "text": [
            "[nltk_data] Downloading package stopwords to\n[nltk_data]     C:\\Users\\OmenbyHP\\AppData\\Roaming\\nltk_data...\n[nltk_data]   Package stopwords is already up-to-date!\n"
          ]
        }
      ]
    },
    {
      "cell_type": "code",
      "metadata": {
        "colab": {
          "base_uri": "https://localhost:8080/",
          "height": 340
        },
        "id": "eoKObKLG2CM1",
        "outputId": "b227fdad-a504-4cd3-a47f-583191efc3aa"
      },
      "source": [
        "#import dataset\n",
        "df = pd.read_csv('dataset_tweet.csv')\n",
        "df.head(10)"
      ],
      "execution_count": 3,
      "outputs": [
        {
          "output_type": "execute_result",
          "data": {
            "text/plain": [
              "    Label                                              Tweet\n",
              "0  Non_HS  RT @spardaxyz: Fadli Zon Minta Mendagri Segera...\n",
              "1  Non_HS  RT @baguscondromowo: Mereka terus melukai aksi...\n",
              "2  Non_HS  Sylvi: bagaimana gurbernur melakukan kekerasan...\n",
              "3  Non_HS  Ahmad Dhani Tak Puas Debat Pilkada, Masalah Ja...\n",
              "4  Non_HS  RT @lisdaulay28: Waspada KTP palsu.....kawal P...\n",
              "5  Non_HS  @felixsiauw masih bnyak hal agamis yg bisa dib...\n",
              "6  Non_HS  Ahok Akan Integrasikan Transportasi Publik den...\n",
              "7  Non_HS  Ahok mampu melawan korupsi di ibukota, bangun ...\n",
              "8  Non_HS  Awasi Kecurangan Pilkada, Agus - Sylvi Pakai A...\n",
              "9  Non_HS  Bisa gak kita seperti Jokowi dan Ahok? Aku kal..."
            ],
            "text/html": "<div>\n<style scoped>\n    .dataframe tbody tr th:only-of-type {\n        vertical-align: middle;\n    }\n\n    .dataframe tbody tr th {\n        vertical-align: top;\n    }\n\n    .dataframe thead th {\n        text-align: right;\n    }\n</style>\n<table border=\"1\" class=\"dataframe\">\n  <thead>\n    <tr style=\"text-align: right;\">\n      <th></th>\n      <th>Label</th>\n      <th>Tweet</th>\n    </tr>\n  </thead>\n  <tbody>\n    <tr>\n      <th>0</th>\n      <td>Non_HS</td>\n      <td>RT @spardaxyz: Fadli Zon Minta Mendagri Segera...</td>\n    </tr>\n    <tr>\n      <th>1</th>\n      <td>Non_HS</td>\n      <td>RT @baguscondromowo: Mereka terus melukai aksi...</td>\n    </tr>\n    <tr>\n      <th>2</th>\n      <td>Non_HS</td>\n      <td>Sylvi: bagaimana gurbernur melakukan kekerasan...</td>\n    </tr>\n    <tr>\n      <th>3</th>\n      <td>Non_HS</td>\n      <td>Ahmad Dhani Tak Puas Debat Pilkada, Masalah Ja...</td>\n    </tr>\n    <tr>\n      <th>4</th>\n      <td>Non_HS</td>\n      <td>RT @lisdaulay28: Waspada KTP palsu.....kawal P...</td>\n    </tr>\n    <tr>\n      <th>5</th>\n      <td>Non_HS</td>\n      <td>@felixsiauw masih bnyak hal agamis yg bisa dib...</td>\n    </tr>\n    <tr>\n      <th>6</th>\n      <td>Non_HS</td>\n      <td>Ahok Akan Integrasikan Transportasi Publik den...</td>\n    </tr>\n    <tr>\n      <th>7</th>\n      <td>Non_HS</td>\n      <td>Ahok mampu melawan korupsi di ibukota, bangun ...</td>\n    </tr>\n    <tr>\n      <th>8</th>\n      <td>Non_HS</td>\n      <td>Awasi Kecurangan Pilkada, Agus - Sylvi Pakai A...</td>\n    </tr>\n    <tr>\n      <th>9</th>\n      <td>Non_HS</td>\n      <td>Bisa gak kita seperti Jokowi dan Ahok? Aku kal...</td>\n    </tr>\n  </tbody>\n</table>\n</div>"
          },
          "metadata": {},
          "execution_count": 3
        }
      ]
    },
    {
      "cell_type": "code",
      "metadata": {
        "colab": {
          "base_uri": "https://localhost:8080/",
          "height": 340
        },
        "id": "MbGVPBb22Hpp",
        "outputId": "5ebd850e-c4f8-4d7a-9de6-b87ba1ee1016"
      },
      "source": [
        "#Cleaning Text\n",
        "def cleaning_text(text):\n",
        "  #text = \"\".join([char for char in text if char not in string.punctuation])\n",
        "  text = re.sub(r'@[A-Za-z0-0]+', '', text) #menghilangkan mention\n",
        "  text = re.sub(r'#[A-Za-z0-0]+', '', text)\n",
        "  text = re.sub(r'https?:\\/\\/\\S+', '', text) #menghilangkan link\n",
        "  text = re.sub(r'http?:\\/\\/\\S+', '', text)\n",
        "  text = re.sub(r'[^a-zA-z0-9]', ' ', str(text))\n",
        "  text = re.sub(r'\\b\\w{1,2}\\b', '', text) #menghilangkan 2 kata\n",
        "  text = re.sub(r'\\s\\s+', ' ', text)\n",
        "  text = re.sub(r'[@]',r' ',text)\n",
        "  text = re.sub(r'\\d+', '', text)\n",
        "  text = text.translate(str.maketrans('','',string.punctuation))\n",
        "  text = re.sub(r'', '', text.strip()) #menghilangkan spasi yang kosong\n",
        "  return text\n",
        "\n",
        "df['Tweet'] = df['Tweet'].apply(lambda x: cleaning_text(x))\n",
        "df.head(10)"
      ],
      "execution_count": 4,
      "outputs": [
        {
          "output_type": "execute_result",
          "data": {
            "text/plain": [
              "    Label                                              Tweet\n",
              "0  Non_HS  Fadli Zon Minta Mendagri Segera Menonaktifkan ...\n",
              "1  Non_HS  Mereka terus melukai aksi dalam rangka memenja...\n",
              "2  Non_HS  Sylvi bagaimana gurbernur melakukan kekerasan ...\n",
              "3  Non_HS  Ahmad Dhani Tak Puas Debat Pilkada Masalah Jal...\n",
              "4  Non_HS  Waspada KTP palsu kawal PILKADA https    OOoER...\n",
              "5  Non_HS  masih bnyak hal agamis bisa dibahas kenapa pil...\n",
              "6  Non_HS  Ahok Akan Integrasikan Transportasi Publik den...\n",
              "7  Non_HS  Ahok mampu melawan korupsi ibukota bangun infr...\n",
              "8  Non_HS  Awasi Kecurangan Pilkada Agus Sylvi Pakai Apli...\n",
              "9  Non_HS  Bisa gak kita seperti Jokowi dan Ahok Aku kale..."
            ],
            "text/html": "<div>\n<style scoped>\n    .dataframe tbody tr th:only-of-type {\n        vertical-align: middle;\n    }\n\n    .dataframe tbody tr th {\n        vertical-align: top;\n    }\n\n    .dataframe thead th {\n        text-align: right;\n    }\n</style>\n<table border=\"1\" class=\"dataframe\">\n  <thead>\n    <tr style=\"text-align: right;\">\n      <th></th>\n      <th>Label</th>\n      <th>Tweet</th>\n    </tr>\n  </thead>\n  <tbody>\n    <tr>\n      <th>0</th>\n      <td>Non_HS</td>\n      <td>Fadli Zon Minta Mendagri Segera Menonaktifkan ...</td>\n    </tr>\n    <tr>\n      <th>1</th>\n      <td>Non_HS</td>\n      <td>Mereka terus melukai aksi dalam rangka memenja...</td>\n    </tr>\n    <tr>\n      <th>2</th>\n      <td>Non_HS</td>\n      <td>Sylvi bagaimana gurbernur melakukan kekerasan ...</td>\n    </tr>\n    <tr>\n      <th>3</th>\n      <td>Non_HS</td>\n      <td>Ahmad Dhani Tak Puas Debat Pilkada Masalah Jal...</td>\n    </tr>\n    <tr>\n      <th>4</th>\n      <td>Non_HS</td>\n      <td>Waspada KTP palsu kawal PILKADA https    OOoER...</td>\n    </tr>\n    <tr>\n      <th>5</th>\n      <td>Non_HS</td>\n      <td>masih bnyak hal agamis bisa dibahas kenapa pil...</td>\n    </tr>\n    <tr>\n      <th>6</th>\n      <td>Non_HS</td>\n      <td>Ahok Akan Integrasikan Transportasi Publik den...</td>\n    </tr>\n    <tr>\n      <th>7</th>\n      <td>Non_HS</td>\n      <td>Ahok mampu melawan korupsi ibukota bangun infr...</td>\n    </tr>\n    <tr>\n      <th>8</th>\n      <td>Non_HS</td>\n      <td>Awasi Kecurangan Pilkada Agus Sylvi Pakai Apli...</td>\n    </tr>\n    <tr>\n      <th>9</th>\n      <td>Non_HS</td>\n      <td>Bisa gak kita seperti Jokowi dan Ahok Aku kale...</td>\n    </tr>\n  </tbody>\n</table>\n</div>"
          },
          "metadata": {},
          "execution_count": 4
        }
      ]
    },
    {
      "cell_type": "code",
      "metadata": {
        "colab": {
          "base_uri": "https://localhost:8080/",
          "height": 340
        },
        "id": "zVvNF-UW2J5g",
        "outputId": "ff62fd41-5d8c-4fea-a71f-610f61d14704"
      },
      "source": [
        "#Tokenization\n",
        "def tokenization(text):\n",
        "\ttext = re.split('\\W+', text)\n",
        "\treturn text\n",
        "\n",
        "df['Tokenization'] = df['Tweet'].apply(lambda x: tokenization(x.lower()))\n",
        "df.head(10)"
      ],
      "execution_count": 5,
      "outputs": [
        {
          "output_type": "execute_result",
          "data": {
            "text/plain": [
              "    Label                                              Tweet  \\\n",
              "0  Non_HS  Fadli Zon Minta Mendagri Segera Menonaktifkan ...   \n",
              "1  Non_HS  Mereka terus melukai aksi dalam rangka memenja...   \n",
              "2  Non_HS  Sylvi bagaimana gurbernur melakukan kekerasan ...   \n",
              "3  Non_HS  Ahmad Dhani Tak Puas Debat Pilkada Masalah Jal...   \n",
              "4  Non_HS  Waspada KTP palsu kawal PILKADA https    OOoER...   \n",
              "5  Non_HS  masih bnyak hal agamis bisa dibahas kenapa pil...   \n",
              "6  Non_HS  Ahok Akan Integrasikan Transportasi Publik den...   \n",
              "7  Non_HS  Ahok mampu melawan korupsi ibukota bangun infr...   \n",
              "8  Non_HS  Awasi Kecurangan Pilkada Agus Sylvi Pakai Apli...   \n",
              "9  Non_HS  Bisa gak kita seperti Jokowi dan Ahok Aku kale...   \n",
              "\n",
              "                                        Tokenization  \n",
              "0  [fadli, zon, minta, mendagri, segera, menonakt...  \n",
              "1  [mereka, terus, melukai, aksi, dalam, rangka, ...  \n",
              "2  [sylvi, bagaimana, gurbernur, melakukan, keker...  \n",
              "3  [ahmad, dhani, tak, puas, debat, pilkada, masa...  \n",
              "4  [waspada, ktp, palsu, kawal, pilkada, https, o...  \n",
              "5  [masih, bnyak, hal, agamis, bisa, dibahas, ken...  \n",
              "6  [ahok, akan, integrasikan, transportasi, publi...  \n",
              "7  [ahok, mampu, melawan, korupsi, ibukota, bangu...  \n",
              "8  [awasi, kecurangan, pilkada, agus, sylvi, paka...  \n",
              "9  [bisa, gak, kita, seperti, jokowi, dan, ahok, ...  "
            ],
            "text/html": "<div>\n<style scoped>\n    .dataframe tbody tr th:only-of-type {\n        vertical-align: middle;\n    }\n\n    .dataframe tbody tr th {\n        vertical-align: top;\n    }\n\n    .dataframe thead th {\n        text-align: right;\n    }\n</style>\n<table border=\"1\" class=\"dataframe\">\n  <thead>\n    <tr style=\"text-align: right;\">\n      <th></th>\n      <th>Label</th>\n      <th>Tweet</th>\n      <th>Tokenization</th>\n    </tr>\n  </thead>\n  <tbody>\n    <tr>\n      <th>0</th>\n      <td>Non_HS</td>\n      <td>Fadli Zon Minta Mendagri Segera Menonaktifkan ...</td>\n      <td>[fadli, zon, minta, mendagri, segera, menonakt...</td>\n    </tr>\n    <tr>\n      <th>1</th>\n      <td>Non_HS</td>\n      <td>Mereka terus melukai aksi dalam rangka memenja...</td>\n      <td>[mereka, terus, melukai, aksi, dalam, rangka, ...</td>\n    </tr>\n    <tr>\n      <th>2</th>\n      <td>Non_HS</td>\n      <td>Sylvi bagaimana gurbernur melakukan kekerasan ...</td>\n      <td>[sylvi, bagaimana, gurbernur, melakukan, keker...</td>\n    </tr>\n    <tr>\n      <th>3</th>\n      <td>Non_HS</td>\n      <td>Ahmad Dhani Tak Puas Debat Pilkada Masalah Jal...</td>\n      <td>[ahmad, dhani, tak, puas, debat, pilkada, masa...</td>\n    </tr>\n    <tr>\n      <th>4</th>\n      <td>Non_HS</td>\n      <td>Waspada KTP palsu kawal PILKADA https    OOoER...</td>\n      <td>[waspada, ktp, palsu, kawal, pilkada, https, o...</td>\n    </tr>\n    <tr>\n      <th>5</th>\n      <td>Non_HS</td>\n      <td>masih bnyak hal agamis bisa dibahas kenapa pil...</td>\n      <td>[masih, bnyak, hal, agamis, bisa, dibahas, ken...</td>\n    </tr>\n    <tr>\n      <th>6</th>\n      <td>Non_HS</td>\n      <td>Ahok Akan Integrasikan Transportasi Publik den...</td>\n      <td>[ahok, akan, integrasikan, transportasi, publi...</td>\n    </tr>\n    <tr>\n      <th>7</th>\n      <td>Non_HS</td>\n      <td>Ahok mampu melawan korupsi ibukota bangun infr...</td>\n      <td>[ahok, mampu, melawan, korupsi, ibukota, bangu...</td>\n    </tr>\n    <tr>\n      <th>8</th>\n      <td>Non_HS</td>\n      <td>Awasi Kecurangan Pilkada Agus Sylvi Pakai Apli...</td>\n      <td>[awasi, kecurangan, pilkada, agus, sylvi, paka...</td>\n    </tr>\n    <tr>\n      <th>9</th>\n      <td>Non_HS</td>\n      <td>Bisa gak kita seperti Jokowi dan Ahok Aku kale...</td>\n      <td>[bisa, gak, kita, seperti, jokowi, dan, ahok, ...</td>\n    </tr>\n  </tbody>\n</table>\n</div>"
          },
          "metadata": {},
          "execution_count": 5
        }
      ]
    },
    {
      "cell_type": "code",
      "metadata": {
        "colab": {
          "base_uri": "https://localhost:8080/",
          "height": 340
        },
        "id": "9M8i7NtA2Mc8",
        "outputId": "69496d8c-f85f-4c8f-d039-a7786179f542"
      },
      "source": [
        "#Stop Removal\n",
        "\n",
        "stopword = nltk.corpus.stopwords.words('indonesian')\n",
        "\n",
        "def remove_stopwords(text):\n",
        "\ttext = [word for word in text if word not in stopword]\n",
        "\treturn text\n",
        "\n",
        "df['Stop_Removal'] = df['Tokenization'].apply(lambda x: remove_stopwords(x))\n",
        "df.head(10)"
      ],
      "execution_count": 6,
      "outputs": [
        {
          "output_type": "execute_result",
          "data": {
            "text/plain": [
              "    Label                                              Tweet  \\\n",
              "0  Non_HS  Fadli Zon Minta Mendagri Segera Menonaktifkan ...   \n",
              "1  Non_HS  Mereka terus melukai aksi dalam rangka memenja...   \n",
              "2  Non_HS  Sylvi bagaimana gurbernur melakukan kekerasan ...   \n",
              "3  Non_HS  Ahmad Dhani Tak Puas Debat Pilkada Masalah Jal...   \n",
              "4  Non_HS  Waspada KTP palsu kawal PILKADA https    OOoER...   \n",
              "5  Non_HS  masih bnyak hal agamis bisa dibahas kenapa pil...   \n",
              "6  Non_HS  Ahok Akan Integrasikan Transportasi Publik den...   \n",
              "7  Non_HS  Ahok mampu melawan korupsi ibukota bangun infr...   \n",
              "8  Non_HS  Awasi Kecurangan Pilkada Agus Sylvi Pakai Apli...   \n",
              "9  Non_HS  Bisa gak kita seperti Jokowi dan Ahok Aku kale...   \n",
              "\n",
              "                                        Tokenization  \\\n",
              "0  [fadli, zon, minta, mendagri, segera, menonakt...   \n",
              "1  [mereka, terus, melukai, aksi, dalam, rangka, ...   \n",
              "2  [sylvi, bagaimana, gurbernur, melakukan, keker...   \n",
              "3  [ahmad, dhani, tak, puas, debat, pilkada, masa...   \n",
              "4  [waspada, ktp, palsu, kawal, pilkada, https, o...   \n",
              "5  [masih, bnyak, hal, agamis, bisa, dibahas, ken...   \n",
              "6  [ahok, akan, integrasikan, transportasi, publi...   \n",
              "7  [ahok, mampu, melawan, korupsi, ibukota, bangu...   \n",
              "8  [awasi, kecurangan, pilkada, agus, sylvi, paka...   \n",
              "9  [bisa, gak, kita, seperti, jokowi, dan, ahok, ...   \n",
              "\n",
              "                                        Stop_Removal  \n",
              "0  [fadli, zon, mendagri, menonaktifkan, ahok, gu...  \n",
              "1  [melukai, aksi, rangka, memenjarakan, ahok, ah...  \n",
              "2  [sylvi, gurbernur, kekerasan, perempuan, bukti...  \n",
              "3  [ahmad, dhani, puas, debat, pilkada, jalan, be...  \n",
              "4  [waspada, ktp, palsu, kawal, pilkada, https, o...  \n",
              "5  [bnyak, agamis, dibahas, pilkada, tingkat, kei...  \n",
              "6  [ahok, integrasikan, transportasi, publik, sis...  \n",
              "7  [ahok, melawan, korupsi, ibukota, bangun, infr...  \n",
              "8  [awasi, kecurangan, pilkada, agus, sylvi, paka...  \n",
              "9             [gak, jokowi, ahok, kalem, melengkapi]  "
            ],
            "text/html": "<div>\n<style scoped>\n    .dataframe tbody tr th:only-of-type {\n        vertical-align: middle;\n    }\n\n    .dataframe tbody tr th {\n        vertical-align: top;\n    }\n\n    .dataframe thead th {\n        text-align: right;\n    }\n</style>\n<table border=\"1\" class=\"dataframe\">\n  <thead>\n    <tr style=\"text-align: right;\">\n      <th></th>\n      <th>Label</th>\n      <th>Tweet</th>\n      <th>Tokenization</th>\n      <th>Stop_Removal</th>\n    </tr>\n  </thead>\n  <tbody>\n    <tr>\n      <th>0</th>\n      <td>Non_HS</td>\n      <td>Fadli Zon Minta Mendagri Segera Menonaktifkan ...</td>\n      <td>[fadli, zon, minta, mendagri, segera, menonakt...</td>\n      <td>[fadli, zon, mendagri, menonaktifkan, ahok, gu...</td>\n    </tr>\n    <tr>\n      <th>1</th>\n      <td>Non_HS</td>\n      <td>Mereka terus melukai aksi dalam rangka memenja...</td>\n      <td>[mereka, terus, melukai, aksi, dalam, rangka, ...</td>\n      <td>[melukai, aksi, rangka, memenjarakan, ahok, ah...</td>\n    </tr>\n    <tr>\n      <th>2</th>\n      <td>Non_HS</td>\n      <td>Sylvi bagaimana gurbernur melakukan kekerasan ...</td>\n      <td>[sylvi, bagaimana, gurbernur, melakukan, keker...</td>\n      <td>[sylvi, gurbernur, kekerasan, perempuan, bukti...</td>\n    </tr>\n    <tr>\n      <th>3</th>\n      <td>Non_HS</td>\n      <td>Ahmad Dhani Tak Puas Debat Pilkada Masalah Jal...</td>\n      <td>[ahmad, dhani, tak, puas, debat, pilkada, masa...</td>\n      <td>[ahmad, dhani, puas, debat, pilkada, jalan, be...</td>\n    </tr>\n    <tr>\n      <th>4</th>\n      <td>Non_HS</td>\n      <td>Waspada KTP palsu kawal PILKADA https    OOoER...</td>\n      <td>[waspada, ktp, palsu, kawal, pilkada, https, o...</td>\n      <td>[waspada, ktp, palsu, kawal, pilkada, https, o...</td>\n    </tr>\n    <tr>\n      <th>5</th>\n      <td>Non_HS</td>\n      <td>masih bnyak hal agamis bisa dibahas kenapa pil...</td>\n      <td>[masih, bnyak, hal, agamis, bisa, dibahas, ken...</td>\n      <td>[bnyak, agamis, dibahas, pilkada, tingkat, kei...</td>\n    </tr>\n    <tr>\n      <th>6</th>\n      <td>Non_HS</td>\n      <td>Ahok Akan Integrasikan Transportasi Publik den...</td>\n      <td>[ahok, akan, integrasikan, transportasi, publi...</td>\n      <td>[ahok, integrasikan, transportasi, publik, sis...</td>\n    </tr>\n    <tr>\n      <th>7</th>\n      <td>Non_HS</td>\n      <td>Ahok mampu melawan korupsi ibukota bangun infr...</td>\n      <td>[ahok, mampu, melawan, korupsi, ibukota, bangu...</td>\n      <td>[ahok, melawan, korupsi, ibukota, bangun, infr...</td>\n    </tr>\n    <tr>\n      <th>8</th>\n      <td>Non_HS</td>\n      <td>Awasi Kecurangan Pilkada Agus Sylvi Pakai Apli...</td>\n      <td>[awasi, kecurangan, pilkada, agus, sylvi, paka...</td>\n      <td>[awasi, kecurangan, pilkada, agus, sylvi, paka...</td>\n    </tr>\n    <tr>\n      <th>9</th>\n      <td>Non_HS</td>\n      <td>Bisa gak kita seperti Jokowi dan Ahok Aku kale...</td>\n      <td>[bisa, gak, kita, seperti, jokowi, dan, ahok, ...</td>\n      <td>[gak, jokowi, ahok, kalem, melengkapi]</td>\n    </tr>\n  </tbody>\n</table>\n</div>"
          },
          "metadata": {},
          "execution_count": 6
        }
      ]
    },
    {
      "cell_type": "code",
      "metadata": {
        "colab": {
          "base_uri": "https://localhost:8080/",
          "height": 340
        },
        "id": "3z2R9YUt2OgG",
        "outputId": "6577af19-82c1-44a6-9259-4b0cb6acedab"
      },
      "source": [
        "#Case Folding\n",
        "df['Tweet'] = df['Tweet'].str.lower()\n",
        "df.head(10)"
      ],
      "execution_count": 7,
      "outputs": [
        {
          "output_type": "execute_result",
          "data": {
            "text/plain": [
              "    Label                                              Tweet  \\\n",
              "0  Non_HS  fadli zon minta mendagri segera menonaktifkan ...   \n",
              "1  Non_HS  mereka terus melukai aksi dalam rangka memenja...   \n",
              "2  Non_HS  sylvi bagaimana gurbernur melakukan kekerasan ...   \n",
              "3  Non_HS  ahmad dhani tak puas debat pilkada masalah jal...   \n",
              "4  Non_HS  waspada ktp palsu kawal pilkada https    oooer...   \n",
              "5  Non_HS  masih bnyak hal agamis bisa dibahas kenapa pil...   \n",
              "6  Non_HS  ahok akan integrasikan transportasi publik den...   \n",
              "7  Non_HS  ahok mampu melawan korupsi ibukota bangun infr...   \n",
              "8  Non_HS  awasi kecurangan pilkada agus sylvi pakai apli...   \n",
              "9  Non_HS  bisa gak kita seperti jokowi dan ahok aku kale...   \n",
              "\n",
              "                                        Tokenization  \\\n",
              "0  [fadli, zon, minta, mendagri, segera, menonakt...   \n",
              "1  [mereka, terus, melukai, aksi, dalam, rangka, ...   \n",
              "2  [sylvi, bagaimana, gurbernur, melakukan, keker...   \n",
              "3  [ahmad, dhani, tak, puas, debat, pilkada, masa...   \n",
              "4  [waspada, ktp, palsu, kawal, pilkada, https, o...   \n",
              "5  [masih, bnyak, hal, agamis, bisa, dibahas, ken...   \n",
              "6  [ahok, akan, integrasikan, transportasi, publi...   \n",
              "7  [ahok, mampu, melawan, korupsi, ibukota, bangu...   \n",
              "8  [awasi, kecurangan, pilkada, agus, sylvi, paka...   \n",
              "9  [bisa, gak, kita, seperti, jokowi, dan, ahok, ...   \n",
              "\n",
              "                                        Stop_Removal  \n",
              "0  [fadli, zon, mendagri, menonaktifkan, ahok, gu...  \n",
              "1  [melukai, aksi, rangka, memenjarakan, ahok, ah...  \n",
              "2  [sylvi, gurbernur, kekerasan, perempuan, bukti...  \n",
              "3  [ahmad, dhani, puas, debat, pilkada, jalan, be...  \n",
              "4  [waspada, ktp, palsu, kawal, pilkada, https, o...  \n",
              "5  [bnyak, agamis, dibahas, pilkada, tingkat, kei...  \n",
              "6  [ahok, integrasikan, transportasi, publik, sis...  \n",
              "7  [ahok, melawan, korupsi, ibukota, bangun, infr...  \n",
              "8  [awasi, kecurangan, pilkada, agus, sylvi, paka...  \n",
              "9             [gak, jokowi, ahok, kalem, melengkapi]  "
            ],
            "text/html": "<div>\n<style scoped>\n    .dataframe tbody tr th:only-of-type {\n        vertical-align: middle;\n    }\n\n    .dataframe tbody tr th {\n        vertical-align: top;\n    }\n\n    .dataframe thead th {\n        text-align: right;\n    }\n</style>\n<table border=\"1\" class=\"dataframe\">\n  <thead>\n    <tr style=\"text-align: right;\">\n      <th></th>\n      <th>Label</th>\n      <th>Tweet</th>\n      <th>Tokenization</th>\n      <th>Stop_Removal</th>\n    </tr>\n  </thead>\n  <tbody>\n    <tr>\n      <th>0</th>\n      <td>Non_HS</td>\n      <td>fadli zon minta mendagri segera menonaktifkan ...</td>\n      <td>[fadli, zon, minta, mendagri, segera, menonakt...</td>\n      <td>[fadli, zon, mendagri, menonaktifkan, ahok, gu...</td>\n    </tr>\n    <tr>\n      <th>1</th>\n      <td>Non_HS</td>\n      <td>mereka terus melukai aksi dalam rangka memenja...</td>\n      <td>[mereka, terus, melukai, aksi, dalam, rangka, ...</td>\n      <td>[melukai, aksi, rangka, memenjarakan, ahok, ah...</td>\n    </tr>\n    <tr>\n      <th>2</th>\n      <td>Non_HS</td>\n      <td>sylvi bagaimana gurbernur melakukan kekerasan ...</td>\n      <td>[sylvi, bagaimana, gurbernur, melakukan, keker...</td>\n      <td>[sylvi, gurbernur, kekerasan, perempuan, bukti...</td>\n    </tr>\n    <tr>\n      <th>3</th>\n      <td>Non_HS</td>\n      <td>ahmad dhani tak puas debat pilkada masalah jal...</td>\n      <td>[ahmad, dhani, tak, puas, debat, pilkada, masa...</td>\n      <td>[ahmad, dhani, puas, debat, pilkada, jalan, be...</td>\n    </tr>\n    <tr>\n      <th>4</th>\n      <td>Non_HS</td>\n      <td>waspada ktp palsu kawal pilkada https    oooer...</td>\n      <td>[waspada, ktp, palsu, kawal, pilkada, https, o...</td>\n      <td>[waspada, ktp, palsu, kawal, pilkada, https, o...</td>\n    </tr>\n    <tr>\n      <th>5</th>\n      <td>Non_HS</td>\n      <td>masih bnyak hal agamis bisa dibahas kenapa pil...</td>\n      <td>[masih, bnyak, hal, agamis, bisa, dibahas, ken...</td>\n      <td>[bnyak, agamis, dibahas, pilkada, tingkat, kei...</td>\n    </tr>\n    <tr>\n      <th>6</th>\n      <td>Non_HS</td>\n      <td>ahok akan integrasikan transportasi publik den...</td>\n      <td>[ahok, akan, integrasikan, transportasi, publi...</td>\n      <td>[ahok, integrasikan, transportasi, publik, sis...</td>\n    </tr>\n    <tr>\n      <th>7</th>\n      <td>Non_HS</td>\n      <td>ahok mampu melawan korupsi ibukota bangun infr...</td>\n      <td>[ahok, mampu, melawan, korupsi, ibukota, bangu...</td>\n      <td>[ahok, melawan, korupsi, ibukota, bangun, infr...</td>\n    </tr>\n    <tr>\n      <th>8</th>\n      <td>Non_HS</td>\n      <td>awasi kecurangan pilkada agus sylvi pakai apli...</td>\n      <td>[awasi, kecurangan, pilkada, agus, sylvi, paka...</td>\n      <td>[awasi, kecurangan, pilkada, agus, sylvi, paka...</td>\n    </tr>\n    <tr>\n      <th>9</th>\n      <td>Non_HS</td>\n      <td>bisa gak kita seperti jokowi dan ahok aku kale...</td>\n      <td>[bisa, gak, kita, seperti, jokowi, dan, ahok, ...</td>\n      <td>[gak, jokowi, ahok, kalem, melengkapi]</td>\n    </tr>\n  </tbody>\n</table>\n</div>"
          },
          "metadata": {},
          "execution_count": 7
        }
      ]
    },
    {
      "cell_type": "code",
      "metadata": {
        "colab": {
          "base_uri": "https://localhost:8080/",
          "height": 1000,
          "referenced_widgets": [
            "b92d5c21c5de4d74abd6f103e20cfc98",
            "2d922c2460da4186960b680de209de0a",
            "73d8f2001afa47548b908c7515ef560a",
            "328320decf504e6c925a4427ebf7c71f",
            "d69542d3289c4062b342955205b6d506",
            "72004dead95949afbb6cd96ab13cc4b5",
            "46146cc690734b94adcf4d515338c6a6",
            "9db874c3e8f54577b18a8c79db0c0381"
          ]
        },
        "id": "csMQwVX32V9m",
        "outputId": "40ad2e65-67c1-4f02-c39e-b2e4dd7f412b",
        "tags": [
          "outputPrepend"
        ]
      },
      "source": [
        "# STEMMING\n",
        "# create stemmer\n",
        "factory = StemmerFactory()\n",
        "stemmer = factory.create_stemmer()\n",
        "\n",
        "# stemmed\n",
        "def stemmed_wrapper(term):\n",
        "    return stemmer.stem(term)\n",
        "\n",
        "term_dict = {}\n",
        "\n",
        "for document in df['Stop_Removal']:\n",
        "    for term in document:\n",
        "        if term not in term_dict:\n",
        "            term_dict[term] = ' '\n",
        "            \n",
        "print(len(term_dict))\n",
        "print(\"------------------------\")\n",
        "\n",
        "for term in term_dict:\n",
        "    term_dict[term] = stemmed_wrapper(term)\n",
        "    print(term,\":\" ,term_dict[term])\n",
        "    \n",
        "print(term_dict)\n",
        "print(\"------------------------\")\n",
        "\n",
        "\n",
        "# apply stemmed term to dataframe\n",
        "def get_stemmed_term(document):\n",
        "    return [term_dict[term] for term in document]\n",
        "\n",
        "df['Tweet_Stemmed'] = df['Stop_Removal'].swifter.apply(get_stemmed_term)\n",
        "print(df['Tweet_Stemmed'])"
      ],
      "execution_count": 8,
      "outputs": [
        {
          "output_type": "stream",
          "name": "stdout",
          "text": [
            "pintu': 'pintu', 'air': 'air', 'manggarai': 'manggarai', 'jaman': 'jaman', 'gpp': 'gpp', 'belom': 'bom', 'rejekinya': 'rejekinya', 'berkarya': 'karya', 'akitbat': 'akitbat', 'gubernurnya': 'gubernur', 'team': 'team', 'memimpin': 'pimpin', 'banggakan': 'bangga', 'lindungan': 'lindung', 'sejarah': 'sejarah', 'mencatat': 'catat', 'perjuangan': 'juang', 'ditempatkan': 'tempat', 'terhebat': 'hebat', 'inspirasi': 'inspirasi', 'pengalaman': 'alam', 'berharga': 'harga', 'setuju': 'tuju', 'kerena': 'rena', 'keluarga': 'keluarga', 'kerjakan': 'kerja', 'meridhoi': 'meridhoi', 'terpenting': 'penting', 'satunya': 'satu', 'jam': 'jam', 'menjual': 'jual', 'iman': 'iman', 'tulus': 'tulus', 'kerasnya': 'keras', 'asing': 'asing', 'menyorot': 'sorot', 'belajar': 'ajar', 'dipetik': 'petik', 'lupakan': 'lupa', 'hasilkan': 'hasil', 'pastikan': 'pasti', 'sejuk': 'sejuk', 'parpol': 'parpol', 'sulit': 'sulit', 'disiplinkan': 'disiplin', 'massa': 'massa', 'jaga': 'jaga', 'polisi': 'polisi', 'terapkan': 'terap', 'pengamanan': 'aman', 'instansi': 'instansi', 'maklumat': 'maklumat', 'larangan': 'larang', 'mobilisasi': 'mobilisasi', 'baju': 'baju', 'dipakai': 'pakai', 'tonton': 'tonton', 'one': 'one', 'barusan': 'barusan', 'cek': 'cek', 'mensukseskan': 'sukses', 'temukan': 'temu', 'performa': 'performa', 'elektabilitas': 'elektabilitas', 'berjiwa': 'jiwa', 'kesatria': 'kesatria', 'pilihnya': 'pilih', 'siang': 'siang', 'dibangkitkan': 'bangkit', 'berkali': 'kali', 'mengangkat': 'angkat', 'yangg': 'yangg', 'kuat': 'kuat', 'didalam': 'dalam', 'pengharapan': 'harap', 'sekedar': 'dar', 'berasal': 'asal', 'padam': 'padam', 'kemanusiaan': 'manusia', 'mengenang': 'kenang', 'perjuangkan': 'juang', 'doakan': 'doa', 'tamengnya': 'tameng', 'kejang': 'kejang', 'pemenang': 'menang', 'bandung': 'bandung', 'juara': 'juara', 'skrg': 'skrg', 'melanjutkan': 'lanjut', 'visi': 'visi', 'misi': 'misi', 'semagat': 'semagat', 'rahmat': 'rahmat', 'yme': 'yme', 'pilihmu': 'pilih', 'batin': 'batin', 'amin': 'amin', 'eks': 'eks', 'timur': 'timur', 'deklarasikan': 'deklarasi', 'kafir': 'kafir', 'ateis': 'ateis', 'vgrcuesti': 'vgrcuesti', 'memporakporandakan': 'memporakporandakan', 'basis': 'basis', 'cililitan': 'cililitan', 'alloh': 'alloh', 'ampuni': 'ampun', 'nselain': 'nselain', 'mjadi': 'mjadi', 'bhasil': 'bhasil', 'tenggelamkan': 'tenggelam', 'congoran': 'congor', 'cebon': 'cebon', 'ulama': 'ulama', 'kompak': 'kompak', 'nyatakan': 'nyata', 'murtad': 'murtad', 'pendikan': 'dik', 'bodoh': 'bodoh', 'larang': 'larang', 'bawa': 'bawa', 'bayar': 'bayar', 'gla': 'gla', 'tanah': 'tanah', 'abang': 'abang', 'cina': 'cina', 'resah': 'resah', 'stres': 'stres', 'pasar': 'pasar', 'sepi': 'sepi', 'drpd': 'drpd', 'munafik': 'munafik', 'penghina': 'hina', 'qur': 'qur', 'menjijikkan': 'jijik', 'btkcetnkg': 'btkcetnkg', 'hubungannya': 'hubung', 'untung': 'untung', 'mampuuuusssssss': 'mampuuuusssssss', 'china': 'china', 'komunis': 'komunis', 'brhevkrxl': 'brhevkrxl', 'kesalahan': 'salah', 'sex': 'sex', 'anaknya': 'anak', 'tan': 'tan', 'msmthwwlk': 'msmthwwlk', 'berdomisili': 'domisili', 'gzkzftpvcw': 'gzkzftpvcw', 'bulat': 'bulat', 'ketutunan': 'ketutunan', 'kejakarta': 'kejakarta', 'aspal': 'aspal', 'kamboja': 'kamboja', 'maling': 'maling', 'yhiwhjp': 'yhiwhjp', 'nanaknya': 'nanaknya', 'koruptoru': 'koruptoru', 'tangkap': 'tangkap', 'klompok': 'klompok', 'pemalsuan': 'palsu', 'penghiyanat': 'penghiyanat', 'share': 'share', 'jago': 'jago', 'menghina': 'hina', 'kristen': 'kristen', 'jpu': 'jpu', 'pemecah': 'pecah', 'belah': 'belah', 'qkifcjqhq': 'qkifcjqhq', 'please': 'please', 'lansung': 'lansung', 'ayoo': 'ayoo', 'keutuhan': 'utuh', 'nkri': 'nkri', 'dxidqzqhv': 'dxidqzqhv', 'gerombolan': 'gerombol', 'banci': 'banci', 'titot': 'titot', 'bidikan': 'bidik', 'arah': 'arah', 'tobat': 'tobat', 'terlambat': 'lambat', 'jil': 'jil', 'konsisten': 'konsisten', 'kekafiran': 'kafir', 'hayat': 'hayat', 'ujitrm': 'ujitrm', 'menempuh': 'tempuh', 'curang': 'curang', 'engkau': 'engkau', 'kirimkanlah': 'kirim', 'malaikat': 'malaikat', 'maut': 'maut', 'menyelesu': 'lesu', 'kebanyakan': 'banyak', 'fpi': 'fpi', 'izin': 'izin', 'gusur': 'gusur', 'jppglrgie': 'jppglrgie', 'pemimpinnya': 'pimpin', 'akhlak': 'akhlak', 'pnegdjmpch': 'pnegdjmpch', 'twit': 'twit', 'asik': 'asik', 'pro': 'pro', 'menghujat': 'hujat', 'cucunya': 'cucu', 'dajjal': 'dajjal', 'nongkrongi': 'nongkrongi', 'medsos': 'medsos', 'ulamanbela': 'ulamanbela', 'sombongnya': 'sombong', 'etnis': 'etnis', 'nmengapa': 'nmengapa', 'solid': 'solid', 'ndendam': 'ndendam', 'ntidak': 'ntidak', 'nasionalis': 'nasionalis', 'mukanya': 'muka', 'mpo': 'mpo', 'asem': 'asem', 'bangett': 'bangett', 'remek': 'rek', 'sukurin': 'sukurin', 'sekumpulan': 'kumpul', 'agamantdk': 'agamantdk', 'empati': 'empati', 'korban': 'korban', 'koar': 'koar', 'junjunganya': 'junjunganya', 'xqfktdgx': 'xqfktdgx', 'penjarakan': 'penjara', 'vqhtnxarz': 'vqhtnxarz', 'ngambang': 'ngambang', 'yaiyalah': 'yaiyalah', 'pakkk': 'pakkk', 'diaa': 'diaa', 'cma': 'cma', 'celaan': 'cela', 'atasi': 'atas', 'julay': 'julay', 'iyaa': 'iyaa', 'ahog': 'ahog', 'ngak': 'ngak', 'pantes': 'pantes', 'pantesnya': 'pantesnya', 'dipenjarakan': 'penjara', 'yhhoqwxs': 'yhhoqwxs', 'overdosis': 'overdosis', 'tv': 'tv', 'membela': 'bela', 'irarpyw': 'irarpyw', 'kaga': 'kaga', 'masuk': 'masuk', 'diakal': 'akal', 'kite': 'kite', 'dikutuk': 'kutuk', 'ame': 'ame', 'sengaja': 'sengaja', 'ditinggiin': 'ditinggiin', 'pantasan': 'pantas', 'pecat': 'pecat', 'menteri': 'menteri', 'data': 'data', 'ngawur': 'ngawur', 'memkasakan': 'memkasakan', 'hahaha': 'hahaha', 'ahoax': 'ahoax', 'xoweakisk': 'xoweakisk', 'napa': 'napa', 'dibiarin': 'dibiarin', 'maen': 'maen', 'maren': 'maren', 'digaplok': 'gaplok', 'rame': 'rame', 'hahahahhahaa': 'hahahahhahaa', 'ohh': 'ohh', 'cacingan': 'cacing', 'loe': 'loe', 'ahhh': 'ahhh', 'wkwkwkwkwkk': 'wkwkwkwkwkk', 'taik': 'taik', 'menfitnah': 'menfitnah', 'tukang': 'tukang', 'caci': 'caci', 'perempuannn': 'perempuannn', 'asuuu': 'asuuu', 'shame': 'shame', 'rasain': 'rasain', 'mat': 'mat', 'silvi': 'silvi', 'pns': 'pns', 'level': 'level', 'goblok': 'goblok', 'memilik': 'milik', 'pecah': 'pecah', 'ulah': 'ulah', 'kelojotan': 'kelojot', 'muhammadi': 'muhammad', 'norak': 'norak', 'iklan': 'iklan', 'mendikbud': 'mendikbud', 'respech': 'respech', 'tenun': 'tenun', 'kebangsaan': 'bangsa', 'maksud': 'maksud', 'u': 'u', 'uxheykblg': 'uxheykblg', 'nebar': 'nebar', 'mutu': 'mutu', 'huuu': 'huuu', 'bloonnya': 'bloonnya', 'mengolok': 'olok', 'olok': 'olok', 'surat': 'surat', 'maidah': 'maidah', 'mati': 'mati', 'hok': 'hok', 'ciri': 'ciri', 'demen': 'demen', 'ngambil': 'ngambil', 'kontan': 'kontan', 'melulu': 'melulu', 'sesat': 'sesat', 'maklum': 'maklum', 'dese': 'dese', 'emakemak': 'emakemak', 'dasar': 'dasar', 'made': 'made', 'pelindung': 'lindung', 'kurangnya': 'kurang', 'pemberdayaan': 'daya', 'wanita': 'wanita', 'telaknya': 'telak', 'warna': 'warna', 'muka': 'muka', 'yaudah': 'yaudah', 'gus': 'gus', 'fisik': 'fisik', 'gebukin': 'gebukin', 'coyy': 'coyy', 'trauma': 'trauma', 'kaleeeee': 'kaleeeee', 'kluarga': 'kluarga', 'ente': 'ente', 'kaitkan': 'kait', 'johan': 'johan', 'budi': 'budi', 'anjing': 'anjing', 'otaknya': 'otak', 'bajingan': 'bajing', 'melindungi': 'lindung', 'selepas': 'lepas', 'mengganti': 'ganti', 'narasi': 'narasi', 'keuntungan': 'untung', 'sang': 'sang', 'tionghoa': 'tionghoa', 'putus': 'putus', 'sekolah': 'sekolah', 'dugem': 'dugem', 'teladan': 'teladan', 'buruk': 'buruk', 'pembangkangan': 'bangkang', 'tertular': 'tular', 'daerah': 'daerah', 'matinya': 'mati', 'disholatin': 'disholatin', 'abu': 'abu', 'ust': 'ust', 'gadungan': 'gadungan', 'sholatin': 'sholatin', 'jokower': 'jokower', 'mampuuss': 'mampuuss', 'tembak': 'tembak', 'dalem': 'dalem', 'silvyy': 'silvyy', 'urusin': 'urusin', 'dapurr': 'dapurr', 'demennya': 'demen', 'bego': 'bego', 'taipan': 'taipan', 'dibayar': 'bayar', 'ratusan': 'ratus', 'biadab': 'biadab', 'asu': 'asu', 'zmbsjaiha': 'zmbsjaiha', 'didebat': 'debat', 'kekuatan': 'kuat', 'dilawan': 'lawan', 'genangan': 'genang', 'pemimpim': 'pemimpim', 'knp': 'knp', 'impor': 'impor', 'beradab': 'adab', 'berbohong': 'bohong', 'pribumikan': 'pribumi', 'ind': 'ind', 'modal': 'modal', 'bacot': 'bacot', 'doang': 'doang', 'berbahaya': 'bahaya', 'ilusi': 'ilusi', 'kesucian': 'suci', 'duitnya': 'duit', 'balikin': 'balikin', 'lgi': 'lgi', 'berkedok': 'kedok', 'invest': 'invest', 'plus': 'plus', 'gembel': 'gembel', 'napi': 'napi', 'negeri': 'negeri', 'nenek': 'nenek', 'moyang': 'moyang', 'skrng': 'skrng', 'ahokers': 'ahokers', 'seneng': 'neng', 'ama': 'ama', 'cuitan': 'cuit', 'silahkan': 'silah', 'unfollow': 'unfollow', 'nistakan': 'nista', 'lecehkan': 'leceh', 'alasannya': 'alas', 'galak': 'galak', 'verbalnya': 'verbal', 'pelampiasan': 'lampias', 'pelarian': 'lari', 'kelelakiannya': 'lelaki', 'lunak': 'lunak', 'blbi': 'blbi', 'triliunan': 'triliun', 'triliun': 'triliun', 'mimpi': 'mimpi', 'djan': 'djan', 'farid': 'farid', 'islami': 'islami', 'aceh': 'aceh', 'merindukan': 'rindu', 'halal': 'halal', 'kutil': 'kutil', 'menyalahkan': 'salah', 'menutupi': 'tutup', 'kegagalan': 'gagal', '': '', 'ahoknya': 'ahoknya', 'ngatasi': 'ngatasi', 'membual': 'bual', 'nunduk': 'nunduk', 'ngebelain': 'ngebelain', 'perilaku': 'perilaku', 'benci': 'benci', 'berbau': 'bau', 'cocok': 'cocok', 'pintar': 'pintar', 'sholat': 'sholat', 'ngaji': 'ngaji', 'santun': 'santun', 'sopan': 'sopan', 'emank': 'emank', 'tai': 'tai', 'kek': 'kek', 'ngejek': 'ngejek', 'onta': 'onta', 'injek': 'injek', 'gmezpoylsy': 'gmezpoylsy', 'harahap': 'harahap', 'panik': 'panik', 'tumbang': 'tumbang', 'teruskan': 'terus', 'cuapcuap': 'cuapcuap', 'ngaruh': 'ngaruh', 'layak': 'layak', 'pikiran': 'pikir', 'manusiawi': 'manusiawi', 'dumdum': 'dumdum', 'cacimaki': 'cacimaki', 'ketauan': 'tau', 'poligami': 'poligami', 'ngumpet': 'ngumpet', 'digituin': 'digituin', 'ogah': 'ogah', 'trump': 'trump', 'nada': 'nada', 'aseng': 'aseng', 'koplo': 'koplo', 'durjana': 'durjana', 'nyuruh': 'nyuruh', 'kebodohan': 'bodoh', 'shalat': 'shalat', 'salahnya': 'salah', 'metrotipu': 'metrotipu', 'dewan': 'dewan', 'peres': 'peres', 'menulis': 'tulis', 'ditulis': 'tulis', 'baginda': 'baginda', 'mulia': 'mulia', 'cuih': 'cuih', 'faktanya': 'fakta', 'parasit': 'parasit', 'ratu': 'ratu', 'adil': 'adil', 'keturunan': 'turun', 'darah': 'darah', 'biruadanya': 'biruadanya', 'kotor': 'kotor', 'apps': 'apps', 'gabung': 'gabung', 'diantar': 'antar', 'kehabitatnya': 'habitat', 'berkoar': 'koar', 'sembarangan': 'sembarang', 'aing': 'aing', 'kontol': 'kontol', 'lonte': 'lonte', 'tungu': 'tungu', 'karier': 'karier', 'kang': 'kang', 'dibenci': 'benci', 'jabar': 'jabar', 'plis': 'plis', 'kecantikan': 'cantik', 'pacarin': 'pacarin', 'meletek': 'letek', 'jijik': 'jijik', 'liatnya': 'liat', 'muntah': 'muntah', 'lagak': 'lagak', 'iye': 'iye', 'hoek': 'hoek', 'gausa': 'gausa', 'make': 'make', 'artist': 'artist', 'borok': 'borok', 'muak': 'muak', 'berbangga': 'bangga', 'woy': 'woy', 'keputusan': 'putus', 'erka': 'erka', 'hormati': 'hormat', 'karam': 'karam', 'kapal': 'kapal', 'munafiknya': 'munafik', 'delete': 'delete', 'nafsu': 'nafsu', 'bersayap': 'sayap', 'burung': 'burung', 'hantu': 'hantu', 'kehormatan': 'hormat', 'direparasi': 'reparasi', 'pulkada': 'pulkada', 'kailan': 'kail', 'belikan': 'belikan', 'payah': 'payah', 'berislam': 'islam', 'copot': 'copot', 'kapolres': 'kapolres', 'riarana': 'riarana', 'ntinggal': 'ntinggal', 'nunggu': 'nunggu', 'adzab': 'adzab', 'dzalim': 'dzalim', 'didatangi': 'datang', 'klau': 'klau', 'senang': 'senang', 'fans': 'fans', 'mampus': 'mampus', 'miskin': 'miskin', 'ahoak': 'ahoak', 'kpd': 'kpd', 'dani': 'dan', 'memaki': 'maki', 'ditindas': 'tindas', 'dll': 'dll', 'taubat': 'taubat', 'rot': 'rot', 'ecaedcc': 'ecaedcc', 'bani': 'bani', 'kampret': 'kampret', 'sma': 'sma', 'penfitnah': 'penfitnah', 'penipu': 'tipu', 'garong': 'garong', 'kerudung': 'kerudung', 'ngapain': 'ngapain', 'konfrensi': 'konfrensi', 'kaliiii': 'kaliiii', 'bwahaha': 'bwahaha', 'disusul': 'susul', 'qodr': 'qodr', 'cabean': 'cabe', 'bbm': 'bbm', 'facrbook': 'facrbook', 'doi': 'doi', 'matian': 'mati', 'murtadz': 'murtadz', 'jamban': 'jamban', 'dibela': 'bela', 'aparat': 'aparat', 'menghi': 'menghi', 'penuh': 'penuh', 'main': 'main', 'ftv': 'ftv', 'joko': 'joko', 'percya': 'percya', 'sdgkan': 'sdgkan', 'induknya': 'induk', 'smp': 'smp', 'lum': 'lum', 'ditahan': 'tahan', 'cyber': 'cyber', 'army': 'army', 'ganti': 'ganti', 'sebutan': 'sebut', 'pandeka': 'pandeka', 'korup': 'korup', 'diasuh': 'asuh', 'cino': 'cino', 'hajar': 'hajar', 'bleh': 'bleh', 'cuihhhhhh': 'cuihhhhhh', 'cebong': 'cebong', 'gendheng': 'gendheng', 'ngamuk': 'ngamuk', 'homo': 'homo', 'g': 'g', 'tolol': 'tolol', 'tersangka': 'sangka', 'saksi': 'saksi', 'dikasus': 'kasus', 'becus': 'becus', 'mlulu': 'mlulu', 'kiamat': 'kiamat', 'yak': 'yak', 'mengingkari': 'ingkar', 'quran': 'quran', 'sumber': 'sumber', 'kekacauan': 'kacau', 'ramaikan': 'ramai', 'aski': 'aski', 'fight': 'fight', 'topengmu': 'topeng', 'lebar': 'lebar', 'menilai': 'nilai', 'pengecut': 'kecut', 'congornya': 'congor', 'gede': 'gede', 'realisasinya': 'realisasi', 'bangsat': 'bangsat', 'hebatnya': 'hebat', 'salaman': 'salam', 'idih': 'idih', 'urusan': 'urus', 'juaranya': 'juara', 'aneh': 'aneh', 'omdo': 'omdo', 'terobosannya': 'terobos', 'bloon': 'bloon', 'tdi': 'tdi', 'topeng': 'topeng', 'fix': 'fix', 'bau': 'bau', 'memutar': 'putar', 'jelekkan': 'jelek', 'tengkuk': 'tengkuk', 'sipit': 'sipit', 'bangke': 'bangke', 'agen': 'agen', 'waras': 'waras', 'dipaksakan': 'paksa', 'kafr': 'kafr', 'ditambah': 'tambah', 'bir': 'bir', 'gerombolannya': 'gerombol', 'merasakan': 'rasa', 'bagaiamana': 'bagaiamana', 'anjingin': 'anjingin', 'bangsatin': 'bangsatin', 'sibabi': 'sibabi', 'memperlakukan': 'laku', 'jongon': 'jongon', 'banser': 'banser', 'nusantara': 'nusantara', 'ketimpangan': 'timpang', 'biadabnya': 'biadab', 'pakar': 'pakar', 'bencong': 'bencong', 'nampaknya': 'nampaknya', 'paket': 'paket', 'penyokong': 'sokong', 'sokong': 'sokong', 'lgbt': 'lgbt', 'kebiadaban': 'biadab', 'digusur': 'gusur', 'rumahnya': 'rumah', 'kehidupannya': 'hidup', 'otak': 'otak', 'tumpul': 'tumpul', 'komit': 'komit', 'pancasila': 'pancasila', 'berpancasila': 'pancasila', 'meninggalkan': 'tinggal', 'ketenangan': 'tenang', 'ketulusannya': 'tulus', 'mjd': 'mjd', 'agitatif': 'agitatif', 'licik': 'licik', 'proses': 'proses', 'waspadai': 'waspada', 'kubu': 'kubu', 'menyesatkan': 'sesat', 'duanya': 'dua', 'dangkal': 'dangkal', 'cekak': 'cekak', 'budak': 'budak', 'pkl': 'pkl', 'asongan': 'asong', 'dianiaya': 'aniaya', 'teroris': 'teroris', 'kenyataanya': 'kenyataanya', 'jutaan': 'juta', 'dimiskinkan': 'miskin', 'dibully': 'dibully', 'binatang': 'binatang', 'berkeliaran': 'liar', 'smg': 'smg', 'sipenista': 'sipenista', 'ateknya': 'ateknya', 'wjar': 'wjar', 'jasadnya': 'jasad', 'dtrma': 'dtrma', 'tnh': 'tnh', 'prnh': 'prnh', 'mrs': 'mrs', 'sorga': 'sorga', 'kelasnya': 'kelas', 'ngebacot': 'ngebacot', 'arogan': 'arogan', 'blg': 'blg', 'apkabar': 'apkabar', 'skakmat': 'skakmat', 'rasis': 'ras', 'ngmg': 'ngmg', 'untungkan': 'untung', 'perkosa': 'perkosa', 'bunuh': 'bunuh', 'berduit': 'duit', 'idiot': 'idiot', 'terurama': 'terurama', 'nasrani': 'nasrani', 'memasuki': 'pasuk', 'wilayah': 'wilayah', 'syariat': 'syariat', 'makmak': 'makmak', 'pukinya': 'puki', 'kslian': 'kslian', 'pki': 'pki', 'ide': 'ide', 'prustasi': 'prustasi', 'memainkan': 'main', 'hookk': 'hookk', 'gorong': 'gorong', 'aniessandiuno': 'aniessandiuno', 'mengintimidasi': 'intimidasi', 'melecehkan': 'leceh', 'memecah': 'pecah', 'ngaco': 'ngaco', 'terorist': 'terorist', 'wahabi': 'wahabi', 'penebar': 'tebar', 'teror': 'teror', 'sadarlah': 'sadar', 'pertiwi': 'pertiwi', 'diporakporandakan': 'diporakporandakan', 'aktor': 'aktor', 'utama': 'utama', 'rindu': 'rindu', 'kerusuhan': 'rusuh', 'dikabul': 'kabul', 'serbet': 'serbet', 'wereng': 'wereng', 'coklat': 'coklat', 'memancing': 'pancing', 'kumpulan': 'kumpul', 'sinting': 'sinting', 'direzim': 'rezim', 'jokopret': 'jokopret', 'setan': 'setan', 'iblis': 'iblis', 'kuburnya': 'kubur', 'gembira': 'gembira', 'berpesta': 'pesta', 'pora': 'pora', 'dibelenggu': 'belenggu', 'ganyang': 'ganyang', 'siapaaaa': 'siapaaaa', 'kalik': 'kalik', 'begituan': 'begitu', 'depresi': 'depresi', 'tahukah': 'tahu', 'persamaan': 'sama', 'malin': 'malin', 'kundang': 'kundang', 'sam': 'sam', 'durhaka': 'durhaka', 'haduh': 'haduh', 'kelakuanmu': 'laku', 'sokan': 'sok', 'provokator': 'provokator', 'sr': 'sr', 'mendidih': 'didih', 'propaganda': 'propaganda', 'radikal': 'radikal', 'kapolda': 'kapolda', 'biadap': 'biadap', 'hina': 'hina', 'dibandingkan': 'banding', 'budaknya': 'budak', 'haram': 'haram', 'najis': 'najis', 'cnn': 'cnn', 'kibarkan': 'kibar', 'bendera': 'bendera', 'kuning': 'kuning', 'kematian': 'mati', 'persis': 'persis', 'melarang': 'larang', 'jilbab': 'jilbab', 'sekokah': 'seko', 'komisioner': 'komisioner', 'kpk': 'kpk', 'pantasnya': 'pantas', 'germo': 'germo', 'alexis': 'alexis', 'maunya': 'mau', 'elo': 'elo', 'memikirkan': 'pikir', 'membabu': 'babu', 'songong': 'songong', 'jongkok': 'jongkok', 'anggap': 'anggap', 'dijadikan': 'jadi', 'lautan': 'laut', 'mikir': 'mikir', 'menciptakan': 'cipta', 'bara': 'bara', 'dibalut': 'balut', 'phobia': 'phobia', 'pemerintahan': 'perintah', 'kulinya': 'kuli', 'naga': 'naga', 'cawgub': 'cawgub', 'peraturan': 'atur', 'liciknya': 'licik', 'tersinggung': 'singgung', 'mrka': 'mrka', 'diam': 'diam', 'gubraaaaak': 'gubraaaaak', 'semalem': 'semalem', 'formatnya': 'format', 'ringsek': 'ringsek', 'loyo': 'loyo', 'stress': 'stress', 'jebol': 'jebol', 'dicopot': 'copot', 'laut': 'laut', 'dirampok': 'rampok', 'dirampas': 'rampas', 'menguntungkan': 'untung', 'sumpah': 'sumpah', 'kesel': 'kesel', 'vote': 'vote', 'makhluk': 'makhluk', 'responden': 'responden', 'faham': 'faham', 'beritasatu': 'beritasatu', 'sandy': 'sandy', 'renovasi': 'renovasi', 'ngurusi': 'ngurusi', 'berhenti': 'henti', 'gereja': 'gereja', 'stiap': 'stiap', 'dibriefing': 'dibriefing', 'datar': 'datar', 'uma': 'uma', 'surveynya': 'surveynya', 'botak': 'botak', 'bukti': 'bukti', 'ummat': 'ummat', 'ajaran': 'ajar', 'meraup': 'raup', 'tulen': 'tulen', 'pale': 'pale', 'peyang': 'yang', 'gym': 'gym', 'berdasarkan': 'dasar', 'melanggar': 'langgar', 'bungkus': 'bungkus', 'congornyapecah': 'congornyapecah', 'steven': 'steven', 'hadisurya': 'hadisurya', 'sulistyo': 'sulistyo', 'ehh': 'ehh', 'omongan': 'omong', 'iwan': 'iwan', 'bopeng': 'bopeng', 'potong': 'potong', 'leher': 'leher', 'tni': 'tni', 'baekin': 'baekin', 'kelan': 'kelan', 'blon': 'blon', 'siuman': 'siuman', 'emut': 'emut', 'bool': 'bool', 'wangi': 'wangi', 'cwe': 'cwe', 'cakep': 'cakep', 'laku': 'laku', 'bubur': 'bubur', 'encer': 'encer', 'menista': 'nista', 'ajeng': 'ajeng', 'bicara': 'bicara', 'dngn': 'dngn', 'intonasi': 'intonasi', 'familiar': 'familiar', 'tuntuna': 'tuntuna', 'didepan': 'depan', 'panggilan': 'panggil', 'popular': 'popular', 'trans': 'trans', 'ajah': 'ajah', 'lantai': 'lantai', 'hancurkan': 'hancur', 'merka': 'merka', 'musnahkan': 'musnah', 'dibumi': 'bumi', 'grombolannya': 'grombolannya', 'gtu': 'gtu', 'wajar': 'wajar', 'dilindungi': 'lindung', 'ngimpi': 'ngimpi', 'sentilin': 'sentilin', 'biji': 'biji', 'pcetar': 'pcetar', 'die': 'die', 'ngadu': 'ngadu', 'jkw': 'jkw', 'makanye': 'makanye', 'sunat': 'sunat', 'bru': 'bru', 'almaidah': 'almaidah', 'ketemu': 'ketemu'}\n",
            "------------------------\n",
            "0      [fadli, zon, mendagri, nonaktif, ahok, gubernu...\n",
            "1      [luka, aksi, rangka, penjara, ahok, ahok, gaga...\n",
            "2      [sylvi, gurbernur, keras, perempuan, bukti, fo...\n",
            "3      [ahmad, dhani, puas, debat, pilkada, jalan, be...\n",
            "4      [waspada, ktp, palsu, kawal, pilkada, https, o...\n",
            "                             ...                        \n",
            "682         [muka, babi, ahok, tuh, serbet, lantai, btp]\n",
            "683    [bang, hancur, merka, bang, musnah, china, bab...\n",
            "684    [sapa, bilang, ahok, anti, korupsi, klo, gromb...\n",
            "685    [ngimpi, sentilin, biji, babi, ahok, pcetar, p...\n",
            "686    [mudah, ketemu, babi, iwan, bopeng, tps, nya, ...\n",
            "Name: Tweet_Stemmed, Length: 687, dtype: object\n",
            "\n"
          ]
        }
      ]
    },
    {
      "cell_type": "code",
      "metadata": {
        "id": "IsqjUzU42i4w"
      },
      "source": [
        "df.to_csv(\"dataset_preprocessed_tweet.csv\")"
      ],
      "execution_count": 9,
      "outputs": []
    }
  ]
}